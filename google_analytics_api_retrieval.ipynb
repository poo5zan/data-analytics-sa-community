{
 "cells": [
  {
   "cell_type": "code",
   "execution_count": 1,
   "metadata": {},
   "outputs": [],
   "source": [
    "from datetime import date\n",
    "from data_retrieval.google_analytics_api_retrieval import GoogleAnalyticsApiRetrieval\n",
    "from dtos.date_range_dto import DateRangeDto\n",
    "from dtos.google_analytics_filter_clause_dto import GoogleAnalyticsFilterClause\n",
    "from dtos.page_dto import PageDto\n",
    "from helpers.enums import GoogleApiVersion, GoogleAuthenticationMethod\n",
    "from helpers.settings_helper import SettingsHelper\n",
    "\n",
    "credentials_file_path = './credentials/credentials.json'\n",
    "token_file_path = './credentials/token.json'\n",
    "settings_helper = SettingsHelper()\n",
    "\n",
    "\n",
    "google_analytics_api = GoogleAnalyticsApiRetrieval(\n",
    "            google_authentication_method=GoogleAuthenticationMethod.OAUTH,\n",
    "            oauth_credentials_filepath=credentials_file_path,\n",
    "            oauth_token_filepath=token_file_path)\n",
    "\n",
    "filter_clause = GoogleAnalyticsFilterClause()\n",
    "filter_clause.set_council_name('burnside')\n",
    "filter_clause.set_date_range(DateRangeDto(start_date=date(2022,1,1), end_date=date(2023,1,1)))\n",
    "page_size = SettingsHelper().get_google_analytics_page_size()\n",
    "filter_clause.set_page_dto(PageDto(page_size, None))\n",
    "filter_clause.set_api_version(GoogleApiVersion.Version4)\n"
   ]
  },
  {
   "cell_type": "code",
   "execution_count": 2,
   "metadata": {},
   "outputs": [
    {
     "ename": "HttpError",
     "evalue": "<HttpError 403 when requesting https://analyticsreporting.googleapis.com/v4/reports:batchGet?alt=json returned \"User does not have sufficient permissions for this profile.\". Details: \"User does not have sufficient permissions for this profile.\">",
     "output_type": "error",
     "traceback": [
      "\u001b[0;31m---------------------------------------------------------------------------\u001b[0m",
      "\u001b[0;31mHttpError\u001b[0m                                 Traceback (most recent call last)",
      "Cell \u001b[0;32mIn[2], line 1\u001b[0m\n\u001b[0;32m----> 1\u001b[0m page_views_and_sessions_df \u001b[38;5;241m=\u001b[39m \u001b[43mgoogle_analytics_api\u001b[49m\u001b[38;5;241;43m.\u001b[39;49m\u001b[43mget_page_views_and_sessions\u001b[49m\u001b[43m(\u001b[49m\u001b[43mfilter_clause\u001b[49m\u001b[43m)\u001b[49m\n\u001b[1;32m      2\u001b[0m page_views_and_sessions_df\u001b[38;5;241m.\u001b[39mhead()\n",
      "File \u001b[0;32m~/Projects/sacommunity/data-analytics/data_retrieval/google_analytics_api_retrieval.py:275\u001b[0m, in \u001b[0;36mGoogleAnalyticsApiRetrieval.get_page_views_and_sessions\u001b[0;34m(self, filter_clause)\u001b[0m\n\u001b[1;32m    272\u001b[0m dimensions \u001b[38;5;241m=\u001b[39m [\u001b[38;5;124m'\u001b[39m\u001b[38;5;124mcustomVarValue1\u001b[39m\u001b[38;5;124m'\u001b[39m,\u001b[38;5;124m'\u001b[39m\u001b[38;5;124mcustomVarValue2\u001b[39m\u001b[38;5;124m'\u001b[39m,\u001b[38;5;124m'\u001b[39m\u001b[38;5;124mcustomVarValue3\u001b[39m\u001b[38;5;124m'\u001b[39m,\\\n\u001b[1;32m    273\u001b[0m               \u001b[38;5;124m'\u001b[39m\u001b[38;5;124mcustomVarValue4\u001b[39m\u001b[38;5;124m'\u001b[39m,\u001b[38;5;124m'\u001b[39m\u001b[38;5;124mcustomVarValue5\u001b[39m\u001b[38;5;124m'\u001b[39m, \u001b[38;5;124m'\u001b[39m\u001b[38;5;124mlandingPagePath\u001b[39m\u001b[38;5;124m'\u001b[39m]\n\u001b[1;32m    274\u001b[0m metrics \u001b[38;5;241m=\u001b[39m [\u001b[38;5;124m\"\u001b[39m\u001b[38;5;124mpageviews\u001b[39m\u001b[38;5;124m\"\u001b[39m, \u001b[38;5;124m\"\u001b[39m\u001b[38;5;124msessions\u001b[39m\u001b[38;5;124m\"\u001b[39m]\n\u001b[0;32m--> 275\u001b[0m data \u001b[38;5;241m=\u001b[39m \u001b[38;5;28;43mself\u001b[39;49m\u001b[38;5;241;43m.\u001b[39;49m\u001b[43mget_data\u001b[49m\u001b[43m(\u001b[49m\u001b[43mrequest_config\u001b[49m\u001b[38;5;241;43m=\u001b[39;49m\u001b[43mGoogleAnalyticsRequestConfig\u001b[49m\u001b[43m(\u001b[49m\n\u001b[1;32m    276\u001b[0m \u001b[43m                     \u001b[49m\u001b[43mdimensions\u001b[49m\u001b[43m,\u001b[49m\u001b[43m \u001b[49m\u001b[43mmetrics\u001b[49m\u001b[43m)\u001b[49m\u001b[43m,\u001b[49m\n\u001b[1;32m    277\u001b[0m \u001b[43m                     \u001b[49m\u001b[43mfilter_clause\u001b[49m\u001b[38;5;241;43m=\u001b[39;49m\u001b[43mfilter_clause\u001b[49m\u001b[43m)\u001b[49m\n\u001b[1;32m    279\u001b[0m data_df \u001b[38;5;241m=\u001b[39m pd\u001b[38;5;241m.\u001b[39mDataFrame(data)\n\u001b[1;32m    280\u001b[0m \u001b[38;5;66;03m# rename columns\u001b[39;00m\n",
      "File \u001b[0;32m~/Projects/sacommunity/data-analytics/data_retrieval/google_analytics_api_retrieval.py:182\u001b[0m, in \u001b[0;36mGoogleAnalyticsApiRetrieval.get_data\u001b[0;34m(self, request_config, filter_clause)\u001b[0m\n\u001b[1;32m    180\u001b[0m new_page_dto \u001b[38;5;241m=\u001b[39m PageDto(filter_clause\u001b[38;5;241m.\u001b[39mpage_dto\u001b[38;5;241m.\u001b[39mpage_size, page_token)\n\u001b[1;32m    181\u001b[0m filter_clause\u001b[38;5;241m.\u001b[39mset_page_dto(new_page_dto)\n\u001b[0;32m--> 182\u001b[0m response \u001b[38;5;241m=\u001b[39m \u001b[38;5;28;43mself\u001b[39;49m\u001b[38;5;241;43m.\u001b[39;49m\u001b[43mget_batch_data\u001b[49m\u001b[43m(\u001b[49m\u001b[43mview_id\u001b[49m\u001b[38;5;241;43m=\u001b[39;49m\u001b[43mview_id\u001b[49m\u001b[43m,\u001b[49m\n\u001b[1;32m    183\u001b[0m \u001b[43m                               \u001b[49m\u001b[43mrequest_config\u001b[49m\u001b[38;5;241;43m=\u001b[39;49m\u001b[43mrequest_config\u001b[49m\u001b[43m,\u001b[49m\n\u001b[1;32m    184\u001b[0m \u001b[43m                               \u001b[49m\u001b[43mfilter_clause\u001b[49m\u001b[38;5;241;43m=\u001b[39;49m\u001b[43mfilter_clause\u001b[49m\u001b[43m)\u001b[49m\n\u001b[1;32m    185\u001b[0m \u001b[38;5;28mself\u001b[39m\u001b[38;5;241m.\u001b[39mlog\u001b[38;5;241m.\u001b[39mdebug(\u001b[38;5;124m'\u001b[39m\u001b[38;5;124mrequest_config \u001b[39m\u001b[38;5;132;01m%s\u001b[39;00m\u001b[38;5;124m, date_range \u001b[39m\u001b[38;5;132;01m%s\u001b[39;00m\u001b[38;5;124m,\u001b[39m\u001b[38;5;130;01m\\\u001b[39;00m\n\u001b[1;32m    186\u001b[0m \u001b[38;5;124m                            page_dto \u001b[39m\u001b[38;5;132;01m%s\u001b[39;00m\u001b[38;5;124m, filter_clause \u001b[39m\u001b[38;5;132;01m%s\u001b[39;00m\u001b[38;5;124m, response \u001b[39m\u001b[38;5;132;01m%s\u001b[39;00m\u001b[38;5;124m'\u001b[39m,\n\u001b[1;32m    187\u001b[0m                            request_config\u001b[38;5;241m.\u001b[39mto_dict(),\n\u001b[0;32m   (...)\u001b[0m\n\u001b[1;32m    190\u001b[0m                            filter_clause\u001b[38;5;241m.\u001b[39mto_dict(),\n\u001b[1;32m    191\u001b[0m                            response)\n\u001b[1;32m    192\u001b[0m results\u001b[38;5;241m.\u001b[39mextend(\u001b[38;5;28mself\u001b[39m\u001b[38;5;241m.\u001b[39mextract_data_from_response(\n\u001b[1;32m    193\u001b[0m     response, filter_clause\u001b[38;5;241m.\u001b[39mdate_range))\n",
      "File \u001b[0;32m~/Projects/sacommunity/data-analytics/data_retrieval/google_analytics_api_retrieval.py:161\u001b[0m, in \u001b[0;36mGoogleAnalyticsApiRetrieval.get_batch_data\u001b[0;34m(self, view_id, request_config, filter_clause)\u001b[0m\n\u001b[1;32m    154\u001b[0m request_body \u001b[38;5;241m=\u001b[39m {\n\u001b[1;32m    155\u001b[0m     \u001b[38;5;124m'\u001b[39m\u001b[38;5;124mreportRequests\u001b[39m\u001b[38;5;124m'\u001b[39m: [\n\u001b[1;32m    156\u001b[0m         request\n\u001b[1;32m    157\u001b[0m     ]\n\u001b[1;32m    158\u001b[0m }\n\u001b[1;32m    160\u001b[0m \u001b[38;5;66;03m# pylint: disable=no-member\u001b[39;00m\n\u001b[0;32m--> 161\u001b[0m \u001b[38;5;28;01mreturn\u001b[39;00m \u001b[43manalytics\u001b[49m\u001b[38;5;241;43m.\u001b[39;49m\u001b[43mreports\u001b[49m\u001b[43m(\u001b[49m\u001b[43m)\u001b[49m\u001b[38;5;241;43m.\u001b[39;49m\u001b[43mbatchGet\u001b[49m\u001b[43m(\u001b[49m\u001b[43mbody\u001b[49m\u001b[38;5;241;43m=\u001b[39;49m\u001b[43mrequest_body\u001b[49m\u001b[43m)\u001b[49m\u001b[38;5;241;43m.\u001b[39;49m\u001b[43mexecute\u001b[49m\u001b[43m(\u001b[49m\u001b[43m)\u001b[49m\n",
      "File \u001b[0;32m~/Projects/sacommunity/data-analytics/sacommunity_data_analytics_venv/lib/python3.10/site-packages/googleapiclient/_helpers.py:130\u001b[0m, in \u001b[0;36mpositional.<locals>.positional_decorator.<locals>.positional_wrapper\u001b[0;34m(*args, **kwargs)\u001b[0m\n\u001b[1;32m    128\u001b[0m     \u001b[38;5;28;01melif\u001b[39;00m positional_parameters_enforcement \u001b[38;5;241m==\u001b[39m POSITIONAL_WARNING:\n\u001b[1;32m    129\u001b[0m         logger\u001b[38;5;241m.\u001b[39mwarning(message)\n\u001b[0;32m--> 130\u001b[0m \u001b[38;5;28;01mreturn\u001b[39;00m \u001b[43mwrapped\u001b[49m\u001b[43m(\u001b[49m\u001b[38;5;241;43m*\u001b[39;49m\u001b[43margs\u001b[49m\u001b[43m,\u001b[49m\u001b[43m \u001b[49m\u001b[38;5;241;43m*\u001b[39;49m\u001b[38;5;241;43m*\u001b[39;49m\u001b[43mkwargs\u001b[49m\u001b[43m)\u001b[49m\n",
      "File \u001b[0;32m~/Projects/sacommunity/data-analytics/sacommunity_data_analytics_venv/lib/python3.10/site-packages/googleapiclient/http.py:938\u001b[0m, in \u001b[0;36mHttpRequest.execute\u001b[0;34m(self, http, num_retries)\u001b[0m\n\u001b[1;32m    936\u001b[0m     callback(resp)\n\u001b[1;32m    937\u001b[0m \u001b[38;5;28;01mif\u001b[39;00m resp\u001b[38;5;241m.\u001b[39mstatus \u001b[38;5;241m>\u001b[39m\u001b[38;5;241m=\u001b[39m \u001b[38;5;241m300\u001b[39m:\n\u001b[0;32m--> 938\u001b[0m     \u001b[38;5;28;01mraise\u001b[39;00m HttpError(resp, content, uri\u001b[38;5;241m=\u001b[39m\u001b[38;5;28mself\u001b[39m\u001b[38;5;241m.\u001b[39muri)\n\u001b[1;32m    939\u001b[0m \u001b[38;5;28;01mreturn\u001b[39;00m \u001b[38;5;28mself\u001b[39m\u001b[38;5;241m.\u001b[39mpostproc(resp, content)\n",
      "\u001b[0;31mHttpError\u001b[0m: <HttpError 403 when requesting https://analyticsreporting.googleapis.com/v4/reports:batchGet?alt=json returned \"User does not have sufficient permissions for this profile.\". Details: \"User does not have sufficient permissions for this profile.\">"
     ]
    }
   ],
   "source": [
    "page_views_and_sessions_df = google_analytics_api.get_page_views_and_sessions(filter_clause)\n",
    "page_views_and_sessions_df.head()"
   ]
  },
  {
   "cell_type": "code",
   "execution_count": null,
   "metadata": {},
   "outputs": [],
   "source": [
    "sessions_by_landing_page_df = google_analytics_api.get_sessions_by_landing_page(filter_clause)\n",
    "sessions_by_landing_page_df.head()"
   ]
  }
 ],
 "metadata": {
  "kernelspec": {
   "display_name": "base",
   "language": "python",
   "name": "python3"
  },
  "language_info": {
   "codemirror_mode": {
    "name": "ipython",
    "version": 3
   },
   "file_extension": ".py",
   "mimetype": "text/x-python",
   "name": "python",
   "nbconvert_exporter": "python",
   "pygments_lexer": "ipython3",
   "version": "3.10.8"
  }
 },
 "nbformat": 4,
 "nbformat_minor": 2
}
