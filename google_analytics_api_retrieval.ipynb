{
 "cells": [
  {
   "cell_type": "code",
   "execution_count": null,
   "metadata": {},
   "outputs": [],
   "source": [
    "from datetime import date\n",
    "from data_retrieval.google_analytics_api_retrieval import GoogleAnalyticsApiRetrieval\n",
    "from dtos.date_range_dto import DateRangeDto\n",
    "from dtos.google_analytics_filter_clause_dto import GoogleAnalyticsFilterClause\n",
    "from dtos.page_dto import PageDto\n",
    "from helpers.enums import GoogleAuthenticationMethod\n",
    "from helpers.settings_helper import SettingsHelper\n",
    "\n",
    "credentials_file_path = './credentials/credentials.json'\n",
    "token_file_path = './credentials/token.json'\n",
    "settings_helper = SettingsHelper()\n",
    "\n",
    "google_analytics_api = GoogleAnalyticsApiRetrieval(\n",
    "            google_authentication_method=GoogleAuthenticationMethod.OAUTH,\n",
    "            oauth_credentials_filepath=credentials_file_path,\n",
    "            oauth_token_filepath=token_file_path,\n",
    "            view_id=settings_helper.get_google_analytics_view_id())\n",
    "\n",
    "filter_clause = GoogleAnalyticsFilterClause()\n",
    "filter_clause.set_council_name('burnside')\n",
    "filter_clause.set_date_range(DateRangeDto(start_date=date(2022,1,1), end_date=date(2023,1,1)))\n",
    "page_size = SettingsHelper().get_google_analytics_page_size()\n",
    "filter_clause.set_page_dto(PageDto(page_size, None))\n"
   ]
  },
  {
   "cell_type": "code",
   "execution_count": null,
   "metadata": {},
   "outputs": [],
   "source": [
    "page_views_and_sessions_df = google_analytics_api.get_page_views_and_sessions(filter_clause)\n",
    "page_views_and_sessions_df.head()"
   ]
  },
  {
   "cell_type": "code",
   "execution_count": null,
   "metadata": {},
   "outputs": [],
   "source": [
    "sessions_by_landing_page_df = google_analytics_api.get_sessions_by_landing_page(filter_clause)\n",
    "sessions_by_landing_page_df.head()"
   ]
  }
 ],
 "metadata": {
  "kernelspec": {
   "display_name": "base",
   "language": "python",
   "name": "python3"
  },
  "language_info": {
   "codemirror_mode": {
    "name": "ipython",
    "version": 3
   },
   "file_extension": ".py",
   "mimetype": "text/x-python",
   "name": "python",
   "nbconvert_exporter": "python",
   "pygments_lexer": "ipython3",
   "version": "3.10.8"
  }
 },
 "nbformat": 4,
 "nbformat_minor": 2
}
