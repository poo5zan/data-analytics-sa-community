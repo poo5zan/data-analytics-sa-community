{
 "cells": [
  {
   "cell_type": "code",
   "execution_count": null,
   "metadata": {},
   "outputs": [],
   "source": [
    "from datetime import date\n",
    "from data_retrieval.google_analytics_api_retrieval import GoogleAnalyticsApiRetrieval\n",
    "from dtos.date_range_dto import DateRangeDto\n",
    "from dtos.google_analytics_filter_clause_dto import GoogleAnalyticsFilterClause\n",
    "from dtos.page_dto import PageDto\n",
    "from helpers.enums import GoogleApiVersion, GoogleAuthenticationMethod\n",
    "from helpers.settings_helper import SettingsHelper\n",
    "from dtos.google_analytics_request_config_dto import GoogleAnalyticsRequestConfig\n",
    "\n",
    "import pandas as pd\n",
    "\n",
    "credentials_file_path = './credentials/credentials.json'\n",
    "token_file_path = './credentials/token.json'\n",
    "settings_helper = SettingsHelper()\n",
    "\n",
    "def get_dimension_metrics(module: str, version: int):\n",
    "    print('Module ', module)\n",
    "    print('version ', version)\n",
    "    df = pd.read_csv('./settings/google_api_metrics.csv')\n",
    "    row = df[(df['module'] == module) & (df['version'] == version)]\n",
    "    if len(row) == 0:\n",
    "        return [], []\n",
    "    dimensions = [d.strip() for d in row['dimensions'].values[0].split(\",\")]\n",
    "    metrics = [m.strip() for m in row['metrics'].values[0].split(\",\")]\n",
    "    return dimensions, metrics\n",
    "\n",
    "\n",
    "google_analytics_api = GoogleAnalyticsApiRetrieval(\n",
    "            google_authentication_method=GoogleAuthenticationMethod.OAUTH,\n",
    "            oauth_credentials_filepath=credentials_file_path,\n",
    "            oauth_token_filepath=token_file_path)\n",
    "\n",
    "filter_clause = GoogleAnalyticsFilterClause()\n",
    "filter_clause.set_council_name('burnside')\n",
    "filter_clause.set_date_range(DateRangeDto(start_date=date(2020,4,1), end_date=date(2024,5,1)))\n",
    "page_size = SettingsHelper().get_google_analytics_page_size()\n",
    "filter_clause.set_page_dto(PageDto(page_size, None))\n",
    "\n",
    "version = GoogleApiVersion.VERSION_4\n",
    "filter_clause.set_api_version(version)\n",
    "\n",
    "module = 'Sessions by Landing Page'\n",
    "\n",
    "dimensions, metrics = get_dimension_metrics(module, version.value)\n",
    "print('dimensions ', dimensions)\n",
    "print('metrics ', metrics)\n",
    "\n",
    "request_config=GoogleAnalyticsRequestConfig(dimensions, metrics)\n",
    "\n",
    "page_views_and_sessions_df = google_analytics_api.get_data_as_df(request_config, filter_clause)\n",
    "page_views_and_sessions_df.head()"
   ]
  },
  {
   "cell_type": "code",
   "execution_count": null,
   "metadata": {},
   "outputs": [],
   "source": []
  },
  {
   "cell_type": "code",
   "execution_count": null,
   "metadata": {},
   "outputs": [],
   "source": [
    "sessions_by_landing_page_df = google_analytics_api.get_sessions_by_landing_page(filter_clause)\n",
    "sessions_by_landing_page_df.head()"
   ]
  }
 ],
 "metadata": {
  "kernelspec": {
   "display_name": "base",
   "language": "python",
   "name": "python3"
  },
  "language_info": {
   "codemirror_mode": {
    "name": "ipython",
    "version": 3
   },
   "file_extension": ".py",
   "mimetype": "text/x-python",
   "name": "python",
   "nbconvert_exporter": "python",
   "pygments_lexer": "ipython3",
   "version": "3.10.8"
  }
 },
 "nbformat": 4,
 "nbformat_minor": 2
}
