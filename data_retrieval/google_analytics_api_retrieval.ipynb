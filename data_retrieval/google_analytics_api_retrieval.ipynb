{
 "cells": [
  {
   "cell_type": "code",
   "execution_count": null,
   "metadata": {},
   "outputs": [],
   "source": [
    "import sys\n",
    "import os\n",
    "# insert current path to system path, so that we can import python file\n",
    "pwd = os.getcwd()\n",
    "root_folder = 'data-analytics'\n",
    "da_index = pwd.index(root_folder)\n",
    "root_dir = os.path.join(pwd[0:da_index], root_folder)\n",
    "sys.path.insert(1, root_dir)\n",
    "from datetime import date\n",
    "\n",
    "from google_analytics_api_retrieval import GoogleAnalyticsApiRetrieval, GoogleAuthenticationMethod\n",
    "\n",
    "CLIENT_SECRETS_FILE = '../credentials/credentials.json'\n",
    "TOKEN_FILE = '../credentials/token.json'\n",
    "view_id = \"23837774\"\n",
    "ga = GoogleAnalyticsApiRetrieval(google_authentication_method = GoogleAuthenticationMethod.OAuth,\n",
    "                                oauth_credentials_filepath= CLIENT_SECRETS_FILE,\n",
    "                                oauth_token_filepath=TOKEN_FILE,\n",
    "                                view_id=view_id)\n",
    "\n",
    "start_date = date(2021,12,25)\n",
    "end_date = date(2021,12,27)\n",
    "gender_data = ga.get_sessions_by_gender(start_date, end_date)\n",
    "\n",
    "age_data = ga.get_sessions_by_age(start_date, end_date)\n",
    "\n",
    "sessions_data = ga.get_sessions_by_landing_page(start_date, end_date)"
   ]
  },
  {
   "cell_type": "code",
   "execution_count": null,
   "metadata": {},
   "outputs": [],
   "source": [
    "import pandas as pd \n",
    "gender_data_df = pd.DataFrame(gender_data)\n",
    "gender_data_df.head()"
   ]
  },
  {
   "cell_type": "code",
   "execution_count": null,
   "metadata": {},
   "outputs": [],
   "source": [
    "age_data_df = pd.DataFrame(age_data)\n",
    "age_data_df.head()"
   ]
  },
  {
   "cell_type": "code",
   "execution_count": null,
   "metadata": {},
   "outputs": [],
   "source": [
    "sessions_data_df = pd.DataFrame(sessions_data)\n",
    "sessions_data_df.head()"
   ]
  },
  {
   "cell_type": "code",
   "execution_count": null,
   "metadata": {},
   "outputs": [],
   "source": [
    "sessions_data_df.info()"
   ]
  }
 ],
 "metadata": {
  "kernelspec": {
   "display_name": "sacommunity_data_analytics_venv",
   "language": "python",
   "name": "python3"
  },
  "language_info": {
   "codemirror_mode": {
    "name": "ipython",
    "version": 3
   },
   "file_extension": ".py",
   "mimetype": "text/x-python",
   "name": "python",
   "nbconvert_exporter": "python",
   "pygments_lexer": "ipython3",
   "version": "3.10.8"
  }
 },
 "nbformat": 4,
 "nbformat_minor": 2
}
