{
 "cells": [
  {
   "cell_type": "code",
   "execution_count": null,
   "metadata": {},
   "outputs": [],
   "source": [
    "# 1. Import necessary libraries\n",
    "import pandas as pd\n",
    "import os\n",
    "import math"
   ]
  },
  {
   "cell_type": "code",
   "execution_count": null,
   "metadata": {},
   "outputs": [],
   "source": [
    "# google analytics data cleanup\n",
    "\n",
    "class GoogleAnalyticsDataProcessing():\n",
    "    def __init__(self, council_name, fiscal_year) -> None:\n",
    "        self.suffixes_to_remove = [\"?fbclid=\", \"+&\", \"?_x_tr_\", \"?back=\"]\n",
    "        self.search_cache_identifier = \"/search?q=cache:\"\n",
    "        self.sacommunity_url = \"https://sacommunity.org\"\n",
    "        self.council_name = council_name\n",
    "        self.fiscal_year = fiscal_year\n",
    "        self.data_root_folder = './data'\n",
    "        self.google_analytics_landing_page_df = None\n",
    "        self.sa_community_data_gov_au_export_df = None\n",
    "\n",
    "    def get_data_folder_path(self) -> str:\n",
    "        return os.path.join(self.data_root_folder, self.council_name, self.fiscal_year)\n",
    "\n",
    "    def read_google_analytics_landing_page_data(self, file_name: str) -> pd.DataFrame:\n",
    "        full_file_name = os.path.join(self.get_data_folder_path(), file_name)\n",
    "        self.google_analytics_landing_page_df = pd.read_excel(full_file_name, sheet_name='Dataset1')\n",
    "        return self.google_analytics_landing_page_df\n",
    "\n",
    "    def read_sacommunity_data_gov_au_export(self, file_name: str) -> pd.DataFrame:\n",
    "        full_file_name = os.path.join(self.get_data_folder_path(), file_name)\n",
    "        self.sa_community_data_gov_au_export_df = pd.read_csv(full_file_name)\n",
    "        return self.sa_community_data_gov_au_export_df\n",
    "\n",
    "    def save_processed_data(self, data_df : pd.DataFrame, file_name: str):\n",
    "        full_file_name = os.path.join(self.get_data_folder_path(), file_name)\n",
    "        data_df.to_csv(full_file_name, index=False)\n",
    "\n",
    "    def clean_landing_page(self, text: str) -> str:\n",
    "        if self.search_cache_identifier in text:\n",
    "            text = text[text.index(self.sacommunity_url):].replace(self.sacommunity_url, \"\")\n",
    "\n",
    "        for suffix_to_remove in self.suffixes_to_remove:\n",
    "            if suffix_to_remove in text:\n",
    "                text = text[:text.index(suffix_to_remove)]\n",
    "\n",
    "        # remove underscore\n",
    "        text = text.replace(\"_\", \" \")\n",
    "        # remove /org/\n",
    "        text = text.replace(\"/org/\", \"\")\n",
    "\n",
    "        return text.strip()\n",
    "\n",
    "    def get_organization_id(self, text: str) -> str:\n",
    "        if \"-\" in text:\n",
    "            return int(text[:text.index(\"-\")])\n",
    "        else:\n",
    "            return None\n",
    "    \n",
    "    def get_organization_name(self, text: str) -> str:\n",
    "        if \"-\" in text:\n",
    "            return text[text.index(\"-\") + 1:]\n",
    "        else:\n",
    "            return None\n",
    "        \n",
    "    def get_sessions_by_organization(self, df_ga_orig: pd.DataFrame) -> pd.DataFrame:\n",
    "        df_ga = df_ga_orig.dropna().copy()\n",
    "        df_ga['organization_id_name'] = df_ga['Landing Page'].apply(self.clean_landing_page)\n",
    "        df_ga['organization_id'] = df_ga['organization_id_name'].apply(self.get_organization_id)\n",
    "        df_ga['organization_name'] = df_ga['organization_id_name'].apply(self.get_organization_name)\n",
    "        return df_ga[[\"Landing Page\", \"organization_id_name\", \"organization_id\", \"organization_name\", \"Sessions\"]]\n",
    "    \n",
    "    def group_sessions_by_organization(self, google_analytics_cleaned_df) -> pd.DataFrame:\n",
    "        return google_analytics_cleaned_df.groupby(by=['organization_id']).sum(\"Sessions\")\n",
    "\n",
    "    def process_data(self, google_analytics_sessions_data_df, sa_community_df) -> pd.DataFrame:\n",
    "        results = []\n",
    "        for _, row in google_analytics_sessions_data_df.iterrows():\n",
    "            org_id_str = row[\"organization_id\"]\n",
    "            if math.isnan(org_id_str):\n",
    "                print('org id is invalid, so skip it ', org_id_str)\n",
    "                continue\n",
    "            org_id = 0\n",
    "            if org_id_str is not None:\n",
    "                org_id = int(org_id_str)\n",
    "            \n",
    "            session_count = row[\"Sessions\"]\n",
    "            \n",
    "            # organization name from sa-community file\n",
    "            org_names_sa_community = sa_community_df[sa_community_df['ID_19'] == org_id][\"Org_name\"].values\n",
    "            organization_name_sa_community = ''\n",
    "            is_record_available_in_sacommunity_db = False\n",
    "            if len(org_names_sa_community) > 0:\n",
    "                organization_name_sa_community = org_names_sa_community[0]\n",
    "                is_record_available_in_sacommunity_db = True\n",
    "        \n",
    "            # organization name from google analytics file\n",
    "            org_names_google = google_analytics_sessions_data_df[google_analytics_sessions_data_df[\"organization_id\"] == org_id][\"organization_name\"].values\n",
    "            # print('org_names_google ', org_names_google)\n",
    "            organization_name_google = ''\n",
    "            if len(org_names_google) > 0:\n",
    "                organization_name_google = org_names_google[0]\n",
    "\n",
    "            # print('org_names_google ', org_names_google)\n",
    "            landing_page = self.sacommunity_url + google_analytics_sessions_data_df[google_analytics_sessions_data_df[\"organization_id\"] == org_id][\"Landing Page\"].values[0]\n",
    "            results.append({\n",
    "                'org_id': org_id,\n",
    "                'landing_page': landing_page,\n",
    "                'sessions_count': session_count,\n",
    "                'organization_name_sa_community': organization_name_sa_community,\n",
    "                'organization_name_google': organization_name_google,\n",
    "                'is_record_available_in_sacommunity_db': is_record_available_in_sacommunity_db,\n",
    "            })\n",
    "\n",
    "        return pd.DataFrame(results)\n",
    "\n",
    "# test texts\n",
    "# google_analytics_processing = GoogleAnalyticsDataProcessing()\n",
    "# inputs = [\n",
    "#     \"/org/196236-Dave's_Angels_Playgroup?fbclid=IwAR05WAQ0z5mwY7v1UEVmkDITFg7sDh8pcD8taJ3oGH4336EpkNZeP81BIKc\",\n",
    "#     \"/search?q=cache:UTs_a-1ZNgEJ:https://sacommunity.org/org/196341-Neighbourhood_Watch_-_Linden_Park_249+&cd=63&hl=en&ct=clnk&gl=bj\",\n",
    "#     \"/org/201669-Gifted_&_Talented_Children's_Association_of_SA_Inc.?_x_tr_sl=en&_x_tr_tl=th&_x_tr_hl=th&_x_tr_pto=sc\",\n",
    "#     \"/org/201830-Aged_Rights_Advocacy_Service_Inc.?back=https://www.google.com/search?client=safari&as_qdr=all&as_occt=any&safe=active&as_q=Age+advocate+for+South+Australia&channel=aplab&source=a-app1&hl=en\",\n",
    "#     \"/org/201950-SA_Ambulance_Service?_x_tr_sl=en&_x_tr_tl=fr&_x_tr_hl=fr&_x_tr_pto=nui,sc\"\n",
    "# ]\n",
    "\n",
    "# for input in inputs:\n",
    "#     print(google_analytics_processing.clean_landing_page(input))\n",
    "    "
   ]
  },
  {
   "cell_type": "code",
   "execution_count": null,
   "metadata": {},
   "outputs": [],
   "source": [
    "COUNCIL = 'Burnside'\n",
    "FISCAL_YEAR = '2022-2023'\n",
    "data_processing = GoogleAnalyticsDataProcessing(COUNCIL, FISCAL_YEAR)\n"
   ]
  },
  {
   "cell_type": "code",
   "execution_count": null,
   "metadata": {},
   "outputs": [],
   "source": [
    "# google analytics data\n",
    "google_analytics_landing_page_df = data_processing.read_google_analytics_landing_page_data('google_analytics_landing_page.xlsx')\n",
    "google_analytics_landing_page_df.head()"
   ]
  },
  {
   "cell_type": "code",
   "execution_count": null,
   "metadata": {},
   "outputs": [],
   "source": [
    "# SAcommunity data\n",
    "sa_community_data_gov_au_export_df = data_processing.read_sacommunity_data_gov_au_export('sacommunity_data_gov_au_export.csv')\n",
    "sa_community_data_gov_au_export_df.head()"
   ]
  },
  {
   "cell_type": "code",
   "execution_count": null,
   "metadata": {},
   "outputs": [],
   "source": [
    "sessions_data_df = data_processing.get_sessions_by_organization(google_analytics_landing_page_df)\n",
    "processed_data_df = data_processing.process_data(sessions_data_df, sa_community_data_gov_au_export_df)\n",
    "processed_data_df.head()"
   ]
  },
  {
   "cell_type": "code",
   "execution_count": null,
   "metadata": {},
   "outputs": [],
   "source": [
    "data_processing.save_processed_data(processed_data_df, 'processed_data.csv')"
   ]
  },
  {
   "cell_type": "code",
   "execution_count": null,
   "metadata": {},
   "outputs": [],
   "source": [
    "# these records are problematic, they are found in google analytics, but not in sacommunity council based export \n",
    "# Check these records manually, why it is not available in sacommunity db\n",
    "# One posible reason is that the record in sacommunity is invalid, the council name could be wrong\n",
    "# Later, will try to automate on how to get the exact council name from selenium\n",
    "data_available_in_google_analytics_but_not_in_sacommunity_df = processed_data_df[processed_data_df[\"is_record_available_in_sacommunity_db\"] == False]\n",
    "data_available_in_google_analytics_but_not_in_sacommunity_df.head()"
   ]
  },
  {
   "cell_type": "code",
   "execution_count": null,
   "metadata": {},
   "outputs": [],
   "source": [
    "\n",
    "data_available_in_google_analytics_but_not_in_sacommunity_full_filename = os.path.join(data_processing.get_data_folder_path(), 'data_available_in_google_analytics_but_not_in_sacommunity.csv')\n",
    "data_available_in_google_analytics_but_not_in_sacommunity_df.to_csv(data_available_in_google_analytics_but_not_in_sacommunity_full_filename, index=False)"
   ]
  },
  {
   "cell_type": "code",
   "execution_count": null,
   "metadata": {},
   "outputs": [],
   "source": []
  }
 ],
 "metadata": {
  "kernelspec": {
   "display_name": "base",
   "language": "python",
   "name": "python3"
  },
  "language_info": {
   "codemirror_mode": {
    "name": "ipython",
    "version": 3
   },
   "file_extension": ".py",
   "mimetype": "text/x-python",
   "name": "python",
   "nbconvert_exporter": "python",
   "pygments_lexer": "ipython3",
   "version": "3.10.8"
  },
  "orig_nbformat": 4
 },
 "nbformat": 4,
 "nbformat_minor": 2
}
