{
 "cells": [
  {
   "cell_type": "code",
   "execution_count": null,
   "metadata": {},
   "outputs": [],
   "source": [
    "# Analysis of Scraped council data \n",
    "import pandas as pd\n",
    "df = pd.read_csv(\"./data/cu_export_all.csv\")\n",
    "df.columns"
   ]
  },
  {
   "cell_type": "code",
   "execution_count": null,
   "metadata": {},
   "outputs": [],
   "source": [
    "council_names = [str(c) for c in df['Organisati_Council'].unique().tolist()]\n",
    "sorted(council_names)"
   ]
  },
  {
   "cell_type": "code",
   "execution_count": null,
   "metadata": {},
   "outputs": [],
   "source": [
    "from helpers.file_helper import FileHelper\n",
    "import pandas as pd\n",
    "\n",
    "# read scraped council data\n",
    "output_file_path= \"./data/cu_export_all_scraped.jsonl\"\n",
    "file_helper = FileHelper()\n",
    "output_records = file_helper.read_jsonlines_all(output_file_path)\n",
    "output_records_df = pd.DataFrame(output_records)"
   ]
  },
  {
   "cell_type": "code",
   "execution_count": null,
   "metadata": {},
   "outputs": [],
   "source": [
    "# Number of data available\n",
    "total_records = output_records_df.shape[0]\n",
    "print(\"Total records \", total_records)"
   ]
  },
  {
   "cell_type": "code",
   "execution_count": null,
   "metadata": {},
   "outputs": [],
   "source": [
    "# columns in the data\n",
    "output_records_df.columns"
   ]
  },
  {
   "cell_type": "code",
   "execution_count": null,
   "metadata": {},
   "outputs": [],
   "source": [
    "# 1. Errors\n",
    "# 1.1 Address is empty in the sacommunity data\n",
    "# Solution: Add address. Search the website or contact the person for address\n",
    "empty_address_df = output_records_df[output_records_df[\"address\"] == \"\"]\n",
    "empty_address_df.shape\n",
    "empty_address_count = empty_address_df.shape[0]\n",
    "print(\"Empty address count \", empty_address_count)"
   ]
  },
  {
   "cell_type": "code",
   "execution_count": null,
   "metadata": {},
   "outputs": [],
   "source": [
    "# Errors. Exception\n",
    "# other erros than empty address\n",
    "# These erros could be scraping is forbidden in the url, too many requests, internal server error, etc\n",
    "# Solution: check for error message, and retry scraping\n",
    "errors_df = output_records_df[(output_records_df['has_error'] == True) & (output_records_df[\"address\"] != \"\")]\n",
    "errors_df.shape\n",
    "errors_count = errors_df.shape[0]\n",
    "print(\"Exceptions count \", errors_count)"
   ]
  },
  {
   "cell_type": "code",
   "execution_count": null,
   "metadata": {},
   "outputs": [],
   "source": [
    "errors_df"
   ]
  },
  {
   "cell_type": "code",
   "execution_count": null,
   "metadata": {},
   "outputs": [],
   "source": [
    "# Address is not recognised as a valid address by the source of scraping\n",
    "# Update address to a valid one. Search the website or contact the person for address\n",
    "address_not_found_df = output_records_df[output_records_df[\"scraped_text\"].str.startswith(\"No results found\")]\n",
    "address_not_found_df.shape\n",
    "invalid_address_count = address_not_found_df.shape[0]\n",
    "print(\"Invalid address count \", invalid_address_count)"
   ]
  },
  {
   "cell_type": "code",
   "execution_count": null,
   "metadata": {},
   "outputs": [],
   "source": [
    "# Council name mismatch\n",
    "# Address has value and scraped data returned council name. This means wrongly recorded in the website\n",
    "# Solution: Update the council name, and corresponding electoral state and federal state\n",
    "council_name_mismatch_df = output_records_df[(output_records_df[\"is_council_correct\"] == False) \n",
    "                                             & (output_records_df[\"address\"] != \"\")\n",
    "                                             & (~output_records_df[\"scraped_text\"].str.startswith(\"No results found\"))]\n",
    "council_name_mismatch_df.shape\n",
    "council_name_mismatch_count = council_name_mismatch_df.shape[0]\n",
    "print(\"council_name_mismatch_count \",council_name_mismatch_count)"
   ]
  },
  {
   "cell_type": "code",
   "execution_count": null,
   "metadata": {},
   "outputs": [],
   "source": [
    "council_name_mismatch_df.head()"
   ]
  },
  {
   "cell_type": "code",
   "execution_count": null,
   "metadata": {},
   "outputs": [],
   "source": [
    "# TODO: This seems some error\n",
    "# https://www.lga.sa.gov.au/sa-councils/councils-listing#map returns electoral ward\n",
    "# Need investigation betwen electoral state and electoral ward\n",
    "# Electorate State mismatch\n",
    "# Address has value and scraped data returned council name. Council name is correct, but electorate state is wrong\n",
    "# Solution: Update the council name, and corresponding electoral state and federal state\n",
    "# electorate_state_mismatch_df = output_records_df[(output_records_df[\"is_electorate_state_correct\"] == False) \n",
    "#                                              & (output_records_df[\"address\"] != \"\")\n",
    "#                                              & (~output_records_df[\"scraped_text\"].str.startswith(\"No results found\"))]\n",
    "# electorate_state_mismatch_df.shape"
   ]
  },
  {
   "cell_type": "code",
   "execution_count": null,
   "metadata": {},
   "outputs": [],
   "source": [
    "# electorate_state_mismatch_df.head(2)"
   ]
  },
  {
   "cell_type": "code",
   "execution_count": null,
   "metadata": {},
   "outputs": [],
   "source": [
    "# Summary\n",
    "print(\"Total records \", total_records)\n",
    "print(\"Empty address count \", empty_address_count)\n",
    "print(\"Exceptions count \", errors_count)\n",
    "print(\"Invalid address count \", invalid_address_count)\n",
    "print(\"council_name_mismatch_count \",council_name_mismatch_count)"
   ]
  }
 ],
 "metadata": {
  "kernelspec": {
   "display_name": ".venv",
   "language": "python",
   "name": "python3"
  },
  "language_info": {
   "codemirror_mode": {
    "name": "ipython",
    "version": 3
   },
   "file_extension": ".py",
   "mimetype": "text/x-python",
   "name": "python",
   "nbconvert_exporter": "python",
   "pygments_lexer": "ipython3",
   "version": "3.10.8"
  }
 },
 "nbformat": 4,
 "nbformat_minor": 2
}
