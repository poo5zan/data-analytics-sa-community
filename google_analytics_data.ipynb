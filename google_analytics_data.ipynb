{
 "cells": [
  {
   "cell_type": "code",
   "execution_count": null,
   "metadata": {},
   "outputs": [],
   "source": [
    "from data_retrieval.google_analytics_api_retrieval import GoogleAnalyticsFilterClause, PageDto\n",
    "from data_retrieval.google_analytics_data import GoogleAnalyticsData\n",
    "from datetime import date\n",
    "\n",
    "from dtos.date_range_dto import DateRangeDto\n",
    "from helpers.settings_helper import SettingsHelper\n",
    "CLIENT_SECRETS_FILE_PATH = './credentials/credentials.json'\n",
    "TOKEN_FILE_PATH = './credentials/token.json'\n",
    "ga_data = GoogleAnalyticsData(CLIENT_SECRETS_FILE_PATH, TOKEN_FILE_PATH)\n",
    "filter_clause = GoogleAnalyticsFilterClause()\n",
    "# comment this line to set dataset id to fetch data for all councils\n",
    "filter_clause.set_dataset_id('06COP17')\n",
    "filter_clause.set_date_range(DateRangeDto(start_date=date(2022,1,1), end_date=date(2023,1,1)))\n",
    "page_size = SettingsHelper().get_google_analytics_page_size()\n",
    "filter_clause.set_page_dto(PageDto(page_size, None))\n",
    "run_id = ga_data.save_data(filter_clause=filter_clause)\n",
    "print('run id ', run_id)"
   ]
  },
  {
   "cell_type": "code",
   "execution_count": null,
   "metadata": {},
   "outputs": [],
   "source": [
    "from helpers.enums import DataModule\n",
    "from helpers.file_helper import FileHelper\n",
    "file_helper = FileHelper()\n",
    "run_id = \"2024-04-16-22-58-36_16538064-419e-4e6b-8aa4-5aed4e4e1d95\"\n",
    "df = file_helper.read_run_file(run_id, DataModule.LANDING_PAGE)\n",
    "df"
   ]
  },
  {
   "cell_type": "code",
   "execution_count": null,
   "metadata": {},
   "outputs": [],
   "source": [
    "import pandas as pd\n",
    "sa_community_data_gov_au_export_df = pd.read_csv(\"./data/cu_export_2024-04-16_Data.Gov.au_export.csv\")\n",
    "sa_community_data_gov_au_export_df"
   ]
  },
  {
   "cell_type": "code",
   "execution_count": null,
   "metadata": {},
   "outputs": [],
   "source": [
    "# from data_transform.data_transformation import GoogleAnalyticsDataProcessing\n",
    "\n",
    "\n",
    "# data_processing = GoogleAnalyticsDataProcessing()\n",
    "# SAcommunity data\n",
    "\n",
    "from data_transform.clean_landing_page import CleanLandingPage\n",
    "\n",
    "\n",
    "cc = CleanLandingPage()\n",
    "processed_data_df = cc.process_data(df, sa_community_data_gov_au_export_df)\n",
    "processed_data_df.head()"
   ]
  },
  {
   "cell_type": "code",
   "execution_count": null,
   "metadata": {},
   "outputs": [],
   "source": [
    "# these records are problematic, they are found in google analytics, but not in sacommunity council based export \n",
    "# Check these records manually, why it is not available in sacommunity db\n",
    "# One posible reason is that the record in sacommunity is invalid, the council name could be wrong\n",
    "# Later, will try to automate on how to get the exact council name from selenium\n",
    "data_available_in_google_analytics_but_not_in_sacommunity_df = processed_data_df[processed_data_df[\"is_record_available_in_sacommunity_db\"] == False]\n",
    "data_available_in_google_analytics_but_not_in_sacommunity_df.head()"
   ]
  },
  {
   "cell_type": "code",
   "execution_count": null,
   "metadata": {},
   "outputs": [],
   "source": [
    "from helpers.cu_dataset_reader import read_cu_dataset_settings_pdf\n",
    "pdf_file = './settings/CU datasets settings _ SAcommunity - Connecting Up Australia.pdf'\n",
    "datasets_df = read_cu_dataset_settings_pdf(pdf_file, return_dataframe=True)\n"
   ]
  },
  {
   "cell_type": "code",
   "execution_count": null,
   "metadata": {},
   "outputs": [],
   "source": [
    "datasets_df"
   ]
  },
  {
   "cell_type": "code",
   "execution_count": null,
   "metadata": {},
   "outputs": [],
   "source": [
    "datasets_df[datasets_df['dataset_id'] == '06COP17']"
   ]
  }
 ],
 "metadata": {
  "kernelspec": {
   "display_name": "sacommunity_data_analytics_venv",
   "language": "python",
   "name": "python3"
  },
  "language_info": {
   "codemirror_mode": {
    "name": "ipython",
    "version": 3
   },
   "file_extension": ".py",
   "mimetype": "text/x-python",
   "name": "python",
   "nbconvert_exporter": "python",
   "pygments_lexer": "ipython3",
   "version": "3.10.8"
  }
 },
 "nbformat": 4,
 "nbformat_minor": 2
}
