{
 "cells": [
  {
   "cell_type": "code",
   "execution_count": null,
   "metadata": {},
   "outputs": [],
   "source": [
    "import sys\n",
    "import os\n",
    "sys.path.insert(1, os.getcwd())\n",
    "from datetime import date\n",
    "from datetime import timedelta\n",
    "\n",
    "from data_retrieval.google_analytics_api_retrieval import GoogleAnalyticsApiRetrieval, GoogleAuthenticationMethod\n",
    "from helpers.file_helper import save_list_to_csv, get_data_path\n",
    "from helpers.settings_helper import get_google_analytics_view_id_from_settings, get_file_storage_root_folder_from_settings\n",
    "\n",
    "CLIENT_SECRETS_FILE_PATH = './credentials/credentials.json'\n",
    "TOKEN_FILE_PATH = './credentials/token.json'\n",
    "METADATA_FILE_PATH = \"./metadata/metadata.json\"\n",
    "SETTINGS_FILE_PATH = './settings/app_settings.json'\n"
   ]
  },
  {
   "cell_type": "code",
   "execution_count": null,
   "metadata": {},
   "outputs": [],
   "source": [
    "view_id = get_google_analytics_view_id_from_settings()\n",
    "print('google analytics view id ', view_id)\n",
    "root_dir = get_file_storage_root_folder_from_settings()\n",
    "print('root_dir to store data is ', root_dir)"
   ]
  },
  {
   "cell_type": "code",
   "execution_count": null,
   "metadata": {},
   "outputs": [],
   "source": [
    "# TODO: get these dates from metadata\n",
    "start_date = date(2021, 12, 25)\n",
    "end_date = date(2021, 12, 31)\n",
    "\n",
    "\n",
    "ga = GoogleAnalyticsApiRetrieval(google_authentication_method = GoogleAuthenticationMethod.OAuth,\n",
    "                                oauth_credentials_filepath= CLIENT_SECRETS_FILE_PATH,\n",
    "                                oauth_token_filepath=TOKEN_FILE_PATH,\n",
    "                                view_id=view_id)\n",
    "\n",
    "modules = ['age', 'gender', 'landing_page']\n",
    "# modules = ['gender']\n",
    "\n",
    "while start_date < end_date:\n",
    "    for module in modules:\n",
    "        # print('getting ', module , 'data for date ', start_date)\n",
    "        print(f'getting {module} data for date {start_date}')\n",
    "        data = None\n",
    "        if module == 'age':\n",
    "            data = ga.get_sessions_by_age(start_date, start_date)\n",
    "        elif module == 'gender':\n",
    "            data = ga.get_sessions_by_gender(start_date, start_date)\n",
    "        elif module == 'landing_page':\n",
    "            data = ga.get_sessions_by_landing_page(start_date, start_date)\n",
    "\n",
    "        # print('data is ', data)\n",
    "        file_path = get_data_path(root_dir, 'daily', module, start_date.year, start_date.month, start_date.day)\n",
    "        print('saving file to ', file_path)\n",
    "        save_list_to_csv(data, file_path)\n",
    "        start_date = start_date + timedelta(days=1)"
   ]
  },
  {
   "cell_type": "code",
   "execution_count": null,
   "metadata": {},
   "outputs": [],
   "source": []
  }
 ],
 "metadata": {
  "kernelspec": {
   "display_name": "sacommunity_data_analytics_venv",
   "language": "python",
   "name": "python3"
  },
  "language_info": {
   "codemirror_mode": {
    "name": "ipython",
    "version": 3
   },
   "file_extension": ".py",
   "mimetype": "text/x-python",
   "name": "python",
   "nbconvert_exporter": "python",
   "pygments_lexer": "ipython3",
   "version": "3.10.8"
  }
 },
 "nbformat": 4,
 "nbformat_minor": 2
}
