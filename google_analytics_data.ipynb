{
 "cells": [
  {
   "cell_type": "code",
   "execution_count": null,
   "metadata": {},
   "outputs": [],
   "source": [
    "import sys\n",
    "import os\n",
    "sys.path.insert(1, os.getcwd())\n",
    "print(os.getcwd())\n",
    "from datetime import date\n",
    "from datetime import timedelta\n",
    "import logging\n",
    "\n",
    "from data_retrieval.google_analytics_api_retrieval import GoogleAnalyticsApiRetrieval, GoogleAuthenticationMethod\n",
    "from helpers.file_helper import save_list_to_csv, get_data_path\n",
    "from helpers.settings_helper import get_google_analytics_view_id_from_settings, get_file_storage_root_folder_from_settings\n",
    "from helpers.metadata_helper import load_metadata, DataFrequency, DataModule, JobStatus, get_start_date\n",
    "\n",
    "CLIENT_SECRETS_FILE_PATH = './credentials/credentials.json'\n",
    "TOKEN_FILE_PATH = './credentials/token.json'\n",
    "METADATA_FILE_PATH = \"./metadata/metadata.json\"\n",
    "SETTINGS_FILE_PATH = './settings/app_settings.json'\n",
    "\n",
    "ga_data_log = logging.getLogger(__name__)\n"
   ]
  },
  {
   "cell_type": "code",
   "execution_count": null,
   "metadata": {},
   "outputs": [],
   "source": [
    "view_id = get_google_analytics_view_id_from_settings()\n",
    "print('google analytics view id ', view_id)\n",
    "root_dir = get_file_storage_root_folder_from_settings()\n",
    "print('root_dir to store data is ', root_dir)"
   ]
  },
  {
   "cell_type": "code",
   "execution_count": null,
   "metadata": {},
   "outputs": [],
   "source": [
    "# # Job 1: Age, Daily Data\n",
    "# ga = GoogleAnalyticsApiRetrieval(google_authentication_method = GoogleAuthenticationMethod.OAuth,\n",
    "#                                 oauth_credentials_filepath= CLIENT_SECRETS_FILE_PATH,\n",
    "#                                 oauth_token_filepath=TOKEN_FILE_PATH,\n",
    "#                                 view_id=view_id)\n",
    "\n",
    "# metadata = load_metadata(DataFrequency.Daily, DataModule.Age)\n",
    "# # of the current job is in progress, then don't run another job\n",
    "# if metadata.status == JobStatus.InProgress.value:\n",
    "#     ga_data_log.info(\"Another job is in progress\")\n",
    "# else:\n",
    "#     start_date = get_start_date(metadata.last_data_extraction_date, )\n",
    "#     data = ga.get_sessions_by_age()\n"
   ]
  },
  {
   "cell_type": "code",
   "execution_count": null,
   "metadata": {},
   "outputs": [],
   "source": [
    "# ga = GoogleAnalyticsApiRetrieval(google_authentication_method = GoogleAuthenticationMethod.OAuth,\n",
    "#                                 oauth_credentials_filepath= CLIENT_SECRETS_FILE_PATH,\n",
    "#                                 oauth_token_filepath=TOKEN_FILE_PATH,\n",
    "#                                 view_id=view_id)\n",
    "\n",
    "# modules = ['age', 'gender', 'landing_page']\n",
    "\n",
    "# # while start_date < end_date:\n",
    "# for module in modules:\n",
    "#     print('getting data for ')\n",
    "#     print(f'getting {module} data for date {start_date}')\n",
    "#     data = None\n",
    "#     if module == 'age':\n",
    "#         data = ga.get_sessions_by_age(start_date, start_date)\n",
    "#     elif module == 'gender':\n",
    "#         data = ga.get_sessions_by_gender(start_date, start_date)\n",
    "#     elif module == 'landing_page':\n",
    "#         data = ga.get_sessions_by_landing_page(start_date, start_date)\n",
    "\n",
    "#     # print('data is ', data)\n",
    "#     file_path = get_data_path(root_dir, 'daily', module, start_date)\n",
    "#     print('saving file to ', file_path)\n",
    "#     save_list_to_csv(data, file_path)\n",
    "#     start_date = start_date + timedelta(days=1)"
   ]
  },
  {
   "cell_type": "code",
   "execution_count": null,
   "metadata": {},
   "outputs": [],
   "source": [
    "from dtos.date_range_dto import DateRangeDto\n",
    "from data_retrieval.google_analytics_api_retrieval import PageDto\n",
    "ga = GoogleAnalyticsApiRetrieval(google_authentication_method = GoogleAuthenticationMethod.OAUTH,\n",
    "                                oauth_credentials_filepath= CLIENT_SECRETS_FILE_PATH,\n",
    "                                oauth_token_filepath=TOKEN_FILE_PATH,\n",
    "                                view_id=view_id)\n",
    "\n",
    "date_range_dto = DateRangeDto(date(2022,1,1), date(2023,1,1))\n",
    "page_dto = PageDto(1000, None)\n",
    "data = ga.get_sessions_by_age(date_range_dto, page_dto)"
   ]
  },
  {
   "cell_type": "code",
   "execution_count": null,
   "metadata": {},
   "outputs": [],
   "source": [
    "import pandas as pd \n",
    "data_df = pd.DataFrame(data)\n",
    "data_df"
   ]
  },
  {
   "cell_type": "code",
   "execution_count": null,
   "metadata": {},
   "outputs": [],
   "source": [
    "data_df"
   ]
  },
  {
   "cell_type": "code",
   "execution_count": null,
   "metadata": {},
   "outputs": [],
   "source": [
    "council_data_df = data_df[data_df['ga:customVarValue1'] == '06COP17']\n",
    "council_data_df"
   ]
  },
  {
   "cell_type": "code",
   "execution_count": null,
   "metadata": {},
   "outputs": [],
   "source": [
    "\n",
    "from helpers.cu_dataset_reader import read_cu_dataset_settings_pdf\n",
    "pdf_file = './settings/CU datasets settings _ SAcommunity - Connecting Up Australia.pdf'\n",
    "datasets_df = read_cu_dataset_settings_pdf(pdf_file, return_dataframe=True)\n"
   ]
  },
  {
   "cell_type": "code",
   "execution_count": null,
   "metadata": {},
   "outputs": [],
   "source": [
    "datasets_df"
   ]
  }
 ],
 "metadata": {
  "kernelspec": {
   "display_name": "sacommunity_data_analytics_venv",
   "language": "python",
   "name": "python3"
  },
  "language_info": {
   "codemirror_mode": {
    "name": "ipython",
    "version": 3
   },
   "file_extension": ".py",
   "mimetype": "text/x-python",
   "name": "python",
   "nbconvert_exporter": "python",
   "pygments_lexer": "ipython3",
   "version": "3.10.8"
  }
 },
 "nbformat": 4,
 "nbformat_minor": 2
}
