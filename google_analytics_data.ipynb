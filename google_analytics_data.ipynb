{
 "cells": [
  {
   "cell_type": "code",
   "execution_count": null,
   "metadata": {},
   "outputs": [],
   "source": [
    "import sys\n",
    "import os\n",
    "sys.path.insert(1, os.getcwd())\n",
    "from datetime import date\n",
    "from datetime import timedelta\n",
    "\n",
    "from data_retrieval.google_analytics_api_retrieval import GoogleAnalyticsApiRetrieval, GoogleAuthenticationMethod\n",
    "from data_loader.local_filesystem_loader import save_list_to_csv\n",
    "\n",
    "CLIENT_SECRETS_FILE = './credentials/credentials.json'\n",
    "TOKEN_FILE = './credentials/token.json'\n",
    "view_id = \"\"\n"
   ]
  },
  {
   "cell_type": "code",
   "execution_count": null,
   "metadata": {},
   "outputs": [],
   "source": [
    "def get_data_path(module, year, month, day):\n",
    "    month_str = str(month).zfill(2)\n",
    "    day_str = str(day).zfill(2)\n",
    "    data_dir_path = f'./data/{module}/{year}/{month_str}/{day_str}'\n",
    "    file_name = f'{year}_{month_str}_{day_str}.csv'\n",
    "    full_path = os.path.join(data_dir_path, file_name)\n",
    "    return full_path"
   ]
  },
  {
   "cell_type": "code",
   "execution_count": null,
   "metadata": {},
   "outputs": [],
   "source": [
    "start_date = date(2021, 12, 25)\n",
    "end_date = date(2021, 12, 31)\n",
    "\n",
    "ga = GoogleAnalyticsApiRetrieval(google_authentication_method = GoogleAuthenticationMethod.OAuth,\n",
    "                                oauth_credentials_filepath= CLIENT_SECRETS_FILE,\n",
    "                                oauth_token_filepath=TOKEN_FILE,\n",
    "                                view_id=view_id)\n",
    "\n",
    "# modules = ['age', 'gender', 'landing_page']\n",
    "modules = ['gender']\n",
    "\n",
    "while start_date < end_date:\n",
    "    for module in modules:\n",
    "        # print('getting ', module , 'data for date ', start_date)\n",
    "        print(f'getting {module} data for date {start_date}')\n",
    "        data = None\n",
    "        if module == 'age':\n",
    "            data = ga.get_sessions_by_age(start_date, start_date)\n",
    "        elif module == 'gender':\n",
    "            data = ga.get_sessions_by_gender(start_date, start_date)\n",
    "        elif module == 'landing_page':\n",
    "            data = ga.get_sessions_by_landing_page(start_date, start_date)\n",
    "\n",
    "        print('data is ', data)\n",
    "        file_path = get_data_path(module, start_date.year, start_date.month, start_date.day)\n",
    "        print('saving file to ', file_path)\n",
    "        save_list_to_csv(data, file_path)\n",
    "        start_date = start_date + timedelta(days=1)"
   ]
  },
  {
   "cell_type": "code",
   "execution_count": null,
   "metadata": {},
   "outputs": [],
   "source": []
  }
 ],
 "metadata": {
  "kernelspec": {
   "display_name": "sacommunity_data_analytics_venv",
   "language": "python",
   "name": "python3"
  },
  "language_info": {
   "codemirror_mode": {
    "name": "ipython",
    "version": 3
   },
   "file_extension": ".py",
   "mimetype": "text/x-python",
   "name": "python",
   "nbconvert_exporter": "python",
   "pygments_lexer": "ipython3",
   "version": "3.10.8"
  }
 },
 "nbformat": 4,
 "nbformat_minor": 2
}
