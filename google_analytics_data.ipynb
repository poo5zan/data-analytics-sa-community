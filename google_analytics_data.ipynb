{
 "cells": [
  {
   "cell_type": "code",
   "execution_count": null,
   "metadata": {},
   "outputs": [],
   "source": [
    "# Google Analytics Data"
   ]
  },
  {
   "cell_type": "code",
   "execution_count": null,
   "metadata": {},
   "outputs": [],
   "source": [
    "from datetime import date\n",
    "from dtos.date_range_dto import DateRangeDto\n",
    "from dtos.google_analytics_filter_clause_dto import GoogleAnalyticsFilterClause\n",
    "from dtos.page_dto import PageDto\n",
    "from dtos.settings_dto import SettingsDto\n",
    "from helpers.settings_helper import SettingsHelper\n",
    "from prepare_data import prepare_sessions_data\n",
    "\n",
    "council_to_search = 'burnside'\n",
    "settings_dto = SettingsDto()\n",
    "settings_dto.set_client_secret_file_path('./credentials/credentials.json')\n",
    "settings_dto.set_token_file_path('./credentials/token.json')\n",
    "settings_dto.set_sa_community_export_file_path(\"./data/cu_export.csv\")\n",
    "\n",
    "filter_clause = GoogleAnalyticsFilterClause()\n",
    "filter_clause.set_council_name('burnside')\n",
    "filter_clause.set_date_range(DateRangeDto(start_date=date(2022,1,1), end_date=date(2023,1,1)))\n",
    "page_size = SettingsHelper().get_google_analytics_page_size()\n",
    "filter_clause.set_page_dto(PageDto(page_size, None))\n",
    "\n",
    "prepare_sessions_data(settings_dto, filter_clause)"
   ]
  }
 ],
 "metadata": {
  "kernelspec": {
   "display_name": "sacommunity_data_analytics_venv",
   "language": "python",
   "name": "python3"
  },
  "language_info": {
   "codemirror_mode": {
    "name": "ipython",
    "version": 3
   },
   "file_extension": ".py",
   "mimetype": "text/x-python",
   "name": "python",
   "nbconvert_exporter": "python",
   "pygments_lexer": "ipython3",
   "version": "3.10.8"
  }
 },
 "nbformat": 4,
 "nbformat_minor": 2
}
