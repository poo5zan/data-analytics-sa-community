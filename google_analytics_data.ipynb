{
 "cells": [
  {
   "cell_type": "code",
   "execution_count": 1,
   "metadata": {},
   "outputs": [],
   "source": [
    "# import sys\n",
    "# import os\n",
    "# sys.path.insert(1, os.getcwd())\n",
    "# print(os.getcwd())\n",
    "# from datetime import date\n",
    "# from datetime import timedelta\n",
    "# import logging\n",
    "# import pandas as pd\n",
    "# import uuid\n",
    "\n",
    "# from data_retrieval.google_analytics_api_retrieval import GoogleAnalyticsApiRetrieval, GoogleAuthenticationMethod\n",
    "# from helpers.file_helper import save_list_to_csv\n",
    "# from helpers.settings_helper import get_google_analytics_view_id_from_settings, get_file_storage_root_folder_from_settings\n",
    "# from helpers.metadata_helper import load_metadata, DataFrequency, DataModule, JobStatus, get_start_date\n",
    "# from helpers.file_helper import create_directory_excluding_filename\n",
    "\n",
    "CLIENT_SECRETS_FILE_PATH = './credentials/credentials.json'\n",
    "TOKEN_FILE_PATH = './credentials/token.json'\n",
    "# METADATA_FILE_PATH = \"./metadata/metadata.json\"\n",
    "# SETTINGS_FILE_PATH = './settings/app_settings.json'\n"
   ]
  },
  {
   "cell_type": "code",
   "execution_count": 2,
   "metadata": {},
   "outputs": [
    {
     "name": "stdout",
     "output_type": "stream",
     "text": [
      "/Users/pujanmaharjan/Projects/sacommunity/data-analytics\n"
     ]
    }
   ],
   "source": [
    "from data_retrieval.google_analytics_data import GoogleAnalyticsData\n",
    "from datetime import date\n",
    "\n",
    "ga_data = GoogleAnalyticsData(CLIENT_SECRETS_FILE_PATH, TOKEN_FILE_PATH)\n",
    "run_id = ga_data.save_data(date(2022,1,1), date(2023,1,1))"
   ]
  },
  {
   "cell_type": "code",
   "execution_count": 3,
   "metadata": {},
   "outputs": [
    {
     "name": "stdout",
     "output_type": "stream",
     "text": [
      "run id  e3bea171-7973-4131-bccf-9c2a2ab84489\n"
     ]
    }
   ],
   "source": [
    "print('run id ', run_id)"
   ]
  },
  {
   "cell_type": "code",
   "execution_count": null,
   "metadata": {},
   "outputs": [],
   "source": [
    "# ga_data_log = logging.getLogger(__name__)\n",
    "# view_id = get_google_analytics_view_id_from_settings()\n",
    "# print('google analytics view id ', view_id)\n",
    "# root_dir = get_file_storage_root_folder_from_settings()\n",
    "# print('root_dir to store data is ', root_dir)\n",
    "# run_id = str(uuid.uuid4())\n",
    "# print('Run id ', run_id)"
   ]
  },
  {
   "cell_type": "code",
   "execution_count": null,
   "metadata": {},
   "outputs": [],
   "source": [
    "\n",
    "# def save_df_to_csv(df: pd.DataFrame, root_dir: str, run_id: str, module: str):\n",
    "#     file_name = f'{module}.csv'\n",
    "#     file_path = os.path.join(root_dir, 'data', run_id, file_name)\n",
    "#     create_directory_excluding_filename(file_path)\n",
    "#     df.to_csv(file_path, index=False)\n"
   ]
  },
  {
   "cell_type": "code",
   "execution_count": null,
   "metadata": {},
   "outputs": [],
   "source": [
    "# def get_unique_values(data, column):\n",
    "#   num_unique_values = len(data[column].unique())\n",
    "#   value_counts = data[column].value_counts()\n",
    "#   print(f\"Column: {column} has {num_unique_values} unique values\\n\")\n",
    "#   print(value_counts)"
   ]
  },
  {
   "cell_type": "code",
   "execution_count": null,
   "metadata": {},
   "outputs": [],
   "source": [
    "# def group_data(df : pd.DataFrame, select_columns: list[str], grp_columns: list[str]) -> pd.DataFrame:\n",
    "#     df_s = df[select_columns]\n",
    "#     df_grp = df_s.groupby(by=grp_columns, as_index=False).sum()\n",
    "#     return df_grp\n",
    "\n",
    "# def filter_data_by_dataset_id(df: pd.DataFrame, data_set_id: str):\n",
    "#     return df[df['dataset_id'] == data_set_id]"
   ]
  },
  {
   "cell_type": "code",
   "execution_count": null,
   "metadata": {},
   "outputs": [],
   "source": [
    "# from dtos.date_range_dto import DateRangeDto\n",
    "# from data_retrieval.google_analytics_api_retrieval import PageDto\n",
    "# ga = GoogleAnalyticsApiRetrieval(google_authentication_method = GoogleAuthenticationMethod.OAUTH,\n",
    "#                                 oauth_credentials_filepath= CLIENT_SECRETS_FILE_PATH,\n",
    "#                                 oauth_token_filepath=TOKEN_FILE_PATH,\n",
    "#                                 view_id=view_id)\n",
    "\n",
    "# date_range_dto = DateRangeDto(date(2022,1,1), date(2023,1,1))\n",
    "# page_dto = PageDto(10000, None)"
   ]
  },
  {
   "cell_type": "code",
   "execution_count": null,
   "metadata": {},
   "outputs": [],
   "source": [
    "# # 1, 2, 3. Data for device category, source medium and landing page\n",
    "# data_df = ga.get_sessions_by_landing_page(date_range_dto, page_dto)"
   ]
  },
  {
   "cell_type": "code",
   "execution_count": null,
   "metadata": {},
   "outputs": [],
   "source": [
    "# data_df.info()"
   ]
  },
  {
   "cell_type": "code",
   "execution_count": null,
   "metadata": {},
   "outputs": [],
   "source": [
    "# # 1 device category\n",
    "# device_category_df = group_data(data_df, [\"dataset_id\", \"device_category\",\"sessions\"], [\"dataset_id\", \"device_category\"])\n",
    "# save_df_to_csv(device_category_df, root_dir, run_id, 'device_category')\n",
    "# device_category_df.head()"
   ]
  },
  {
   "cell_type": "code",
   "execution_count": null,
   "metadata": {},
   "outputs": [],
   "source": [
    "# # 2 source medium\n",
    "# source_medium_df = group_data(data_df, [\"dataset_id\", \"source_medium\",\"sessions\"], [\"dataset_id\", \"source_medium\"])\n",
    "# save_df_to_csv(source_medium_df, root_dir, run_id, 'source_medium')\n",
    "# source_medium_df.head()"
   ]
  },
  {
   "cell_type": "code",
   "execution_count": null,
   "metadata": {},
   "outputs": [],
   "source": [
    "# # 3 landing page\n",
    "# landing_page_df = group_data(data_df, [\"dataset_id\", \"landing_page\",\"sessions\"], [\"dataset_id\", \"landing_page\"])\n",
    "# save_df_to_csv(landing_page_df, root_dir, run_id, 'landing_page')\n",
    "# landing_page_df.head()"
   ]
  },
  {
   "cell_type": "code",
   "execution_count": null,
   "metadata": {},
   "outputs": [],
   "source": [
    "# # 4 Age\n",
    "# age_df = ga.get_sessions_by_age(date_range_dto, page_dto)\n",
    "# save_df_to_csv(age_df, root_dir, run_id, 'age')"
   ]
  },
  {
   "cell_type": "code",
   "execution_count": null,
   "metadata": {},
   "outputs": [],
   "source": [
    "# age_df.head()"
   ]
  },
  {
   "cell_type": "code",
   "execution_count": null,
   "metadata": {},
   "outputs": [],
   "source": [
    "# filter_data_by_dataset_id(age_df, '06COP17')"
   ]
  },
  {
   "cell_type": "code",
   "execution_count": null,
   "metadata": {},
   "outputs": [],
   "source": [
    "# # 5 gender\n",
    "# gender_df = ga.get_sessions_by_gender(date_range_dto, page_dto)\n",
    "# save_df_to_csv(gender_df, root_dir, run_id, 'gender')"
   ]
  },
  {
   "cell_type": "code",
   "execution_count": null,
   "metadata": {},
   "outputs": [],
   "source": [
    "# gender_df"
   ]
  },
  {
   "cell_type": "code",
   "execution_count": null,
   "metadata": {},
   "outputs": [],
   "source": [
    "# filter_data_by_dataset_id(gender_df, '06COP17')"
   ]
  },
  {
   "cell_type": "code",
   "execution_count": null,
   "metadata": {},
   "outputs": [],
   "source": [
    "from helpers.cu_dataset_reader import read_cu_dataset_settings_pdf\n",
    "pdf_file = './settings/CU datasets settings _ SAcommunity - Connecting Up Australia.pdf'\n",
    "datasets_df = read_cu_dataset_settings_pdf(pdf_file, return_dataframe=True)\n"
   ]
  },
  {
   "cell_type": "code",
   "execution_count": null,
   "metadata": {},
   "outputs": [],
   "source": [
    "datasets_df"
   ]
  }
 ],
 "metadata": {
  "kernelspec": {
   "display_name": "sacommunity_data_analytics_venv",
   "language": "python",
   "name": "python3"
  },
  "language_info": {
   "codemirror_mode": {
    "name": "ipython",
    "version": 3
   },
   "file_extension": ".py",
   "mimetype": "text/x-python",
   "name": "python",
   "nbconvert_exporter": "python",
   "pygments_lexer": "ipython3",
   "version": "3.10.8"
  }
 },
 "nbformat": 4,
 "nbformat_minor": 2
}
