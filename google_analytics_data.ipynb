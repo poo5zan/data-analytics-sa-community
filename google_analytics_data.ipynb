{
 "cells": [
  {
   "cell_type": "code",
   "execution_count": 5,
   "metadata": {},
   "outputs": [
    {
     "name": "stdout",
     "output_type": "stream",
     "text": [
      "run id  1791f7d3-baaa-4630-a74e-a8b3f21263fa\n"
     ]
    }
   ],
   "source": [
    "from data_retrieval.google_analytics_api_retrieval import GoogleAnalyticsFilterClause, PageDto\n",
    "from data_retrieval.google_analytics_data import GoogleAnalyticsData\n",
    "from datetime import date\n",
    "\n",
    "from dtos.date_range_dto import DateRangeDto\n",
    "CLIENT_SECRETS_FILE_PATH = './credentials/credentials.json'\n",
    "TOKEN_FILE_PATH = './credentials/token.json'\n",
    "ga_data = GoogleAnalyticsData(CLIENT_SECRETS_FILE_PATH, TOKEN_FILE_PATH)\n",
    "filter_clause = GoogleAnalyticsFilterClause()\n",
    "# comment this line to set dataset id to fetch data for all councils\n",
    "filter_clause.set_dataset_id('06COP17')\n",
    "filter_clause.set_date_range(DateRangeDto(start_date=date(2022,1,1), end_date=date(2023,1,1)))\n",
    "filter_clause.set_page_dto(PageDto(10000, None))\n",
    "run_id = ga_data.save_data(filter_clause=filter_clause)\n",
    "print('run id ', run_id)"
   ]
  },
  {
   "cell_type": "code",
   "execution_count": 6,
   "metadata": {},
   "outputs": [],
   "source": [
    "from helpers.cu_dataset_reader import read_cu_dataset_settings_pdf\n",
    "pdf_file = './settings/CU datasets settings _ SAcommunity - Connecting Up Australia.pdf'\n",
    "datasets_df = read_cu_dataset_settings_pdf(pdf_file, return_dataframe=True)\n"
   ]
  },
  {
   "cell_type": "code",
   "execution_count": 7,
   "metadata": {},
   "outputs": [
    {
     "data": {
      "text/html": [
       "<div>\n",
       "<style scoped>\n",
       "    .dataframe tbody tr th:only-of-type {\n",
       "        vertical-align: middle;\n",
       "    }\n",
       "\n",
       "    .dataframe tbody tr th {\n",
       "        vertical-align: top;\n",
       "    }\n",
       "\n",
       "    .dataframe thead th {\n",
       "        text-align: right;\n",
       "    }\n",
       "</style>\n",
       "<table border=\"1\" class=\"dataframe\">\n",
       "  <thead>\n",
       "    <tr style=\"text-align: right;\">\n",
       "      <th></th>\n",
       "      <th>dataset_id</th>\n",
       "      <th>council_name</th>\n",
       "    </tr>\n",
       "  </thead>\n",
       "  <tbody>\n",
       "    <tr>\n",
       "      <th>0</th>\n",
       "      <td>08ADE17</td>\n",
       "      <td>Adelaide City Council</td>\n",
       "    </tr>\n",
       "    <tr>\n",
       "      <th>1</th>\n",
       "      <td>12JHTUS1</td>\n",
       "      <td>Adelaide Hills Council</td>\n",
       "    </tr>\n",
       "    <tr>\n",
       "      <th>2</th>\n",
       "      <td>14MALL01</td>\n",
       "      <td>Adelaide Plains Council (Mallala)</td>\n",
       "    </tr>\n",
       "    <tr>\n",
       "      <th>3</th>\n",
       "      <td>0A4A77Q4</td>\n",
       "      <td>Alexandrina Council</td>\n",
       "    </tr>\n",
       "    <tr>\n",
       "      <th>4</th>\n",
       "      <td>09APY17</td>\n",
       "      <td>Anangu Pitjantjatjara Yankunytjatjara</td>\n",
       "    </tr>\n",
       "    <tr>\n",
       "      <th>...</th>\n",
       "      <td>...</td>\n",
       "      <td>...</td>\n",
       "    </tr>\n",
       "    <tr>\n",
       "      <th>90</th>\n",
       "      <td>14WCC284</td>\n",
       "      <td>Whyalla Council (City of Whyalla) 118x14 0.87k</td>\n",
       "    </tr>\n",
       "    <tr>\n",
       "      <th>91</th>\n",
       "      <td>09WUDD17</td>\n",
       "      <td>Wudinna District Council</td>\n",
       "    </tr>\n",
       "    <tr>\n",
       "      <th>92</th>\n",
       "      <td>09YALA17</td>\n",
       "      <td>Yalata Commu nity Council</td>\n",
       "    </tr>\n",
       "    <tr>\n",
       "      <th>93</th>\n",
       "      <td>09YANK17</td>\n",
       "      <td>Yankalilla Council</td>\n",
       "    </tr>\n",
       "    <tr>\n",
       "      <th>94</th>\n",
       "      <td>09YOPC17</td>\n",
       "      <td>Yorke Peninsula Council</td>\n",
       "    </tr>\n",
       "  </tbody>\n",
       "</table>\n",
       "<p>95 rows × 2 columns</p>\n",
       "</div>"
      ],
      "text/plain": [
       "   dataset_id                                    council_name\n",
       "0     08ADE17                           Adelaide City Council\n",
       "1    12JHTUS1                          Adelaide Hills Council\n",
       "2    14MALL01               Adelaide Plains Council (Mallala)\n",
       "3    0A4A77Q4                             Alexandrina Council\n",
       "4     09APY17           Anangu Pitjantjatjara Yankunytjatjara\n",
       "..        ...                                             ...\n",
       "90   14WCC284  Whyalla Council (City of Whyalla) 118x14 0.87k\n",
       "91   09WUDD17                        Wudinna District Council\n",
       "92   09YALA17                       Yalata Commu nity Council\n",
       "93   09YANK17                              Yankalilla Council\n",
       "94   09YOPC17                         Yorke Peninsula Council\n",
       "\n",
       "[95 rows x 2 columns]"
      ]
     },
     "execution_count": 7,
     "metadata": {},
     "output_type": "execute_result"
    }
   ],
   "source": [
    "datasets_df"
   ]
  },
  {
   "cell_type": "code",
   "execution_count": 8,
   "metadata": {},
   "outputs": [
    {
     "data": {
      "text/html": [
       "<div>\n",
       "<style scoped>\n",
       "    .dataframe tbody tr th:only-of-type {\n",
       "        vertical-align: middle;\n",
       "    }\n",
       "\n",
       "    .dataframe tbody tr th {\n",
       "        vertical-align: top;\n",
       "    }\n",
       "\n",
       "    .dataframe thead th {\n",
       "        text-align: right;\n",
       "    }\n",
       "</style>\n",
       "<table border=\"1\" class=\"dataframe\">\n",
       "  <thead>\n",
       "    <tr style=\"text-align: right;\">\n",
       "      <th></th>\n",
       "      <th>dataset_id</th>\n",
       "      <th>council_name</th>\n",
       "    </tr>\n",
       "  </thead>\n",
       "  <tbody>\n",
       "    <tr>\n",
       "      <th>71</th>\n",
       "      <td>06COP17</td>\n",
       "      <td>Prospect Council 118x14 0.87k</td>\n",
       "    </tr>\n",
       "  </tbody>\n",
       "</table>\n",
       "</div>"
      ],
      "text/plain": [
       "   dataset_id                   council_name\n",
       "71    06COP17  Prospect Council 118x14 0.87k"
      ]
     },
     "execution_count": 8,
     "metadata": {},
     "output_type": "execute_result"
    }
   ],
   "source": [
    "datasets_df[datasets_df['dataset_id'] == '06COP17']"
   ]
  }
 ],
 "metadata": {
  "kernelspec": {
   "display_name": "sacommunity_data_analytics_venv",
   "language": "python",
   "name": "python3"
  },
  "language_info": {
   "codemirror_mode": {
    "name": "ipython",
    "version": 3
   },
   "file_extension": ".py",
   "mimetype": "text/x-python",
   "name": "python",
   "nbconvert_exporter": "python",
   "pygments_lexer": "ipython3",
   "version": "3.10.8"
  }
 },
 "nbformat": 4,
 "nbformat_minor": 2
}
