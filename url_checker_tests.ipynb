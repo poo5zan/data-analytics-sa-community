{
 "cells": [
  {
   "cell_type": "code",
   "execution_count": null,
   "metadata": {},
   "outputs": [],
   "source": [
    "import sys\n",
    "import os\n",
    "# insert current path to system path, so that we can import python file\n",
    "sys.path.insert(1, os.getcwd())\n",
    "from scraping.url_checker import UrlChecker\n",
    "import pandas as pd\n",
    "import logging\n",
    "logging.basicConfig(\n",
    "                    stream=sys.stdout,\n",
    "                    level=logging.INFO,\n",
    "                    format=\"%(asctime)s %(message)s\")\n",
    "\n",
    "url_checker = UrlChecker()\n",
    "resp = url_checker.check_urls_status(\"https://sacommunity.org/node/1123\")\n",
    "resp_df = pd.DataFrame(resp)\n",
    "resp_df"
   ]
  },
  {
   "cell_type": "code",
   "execution_count": null,
   "metadata": {},
   "outputs": [],
   "source": [
    "import sys\n",
    "import os\n",
    "# insert current path to system path, so that we can import python file\n",
    "sys.path.insert(1, os.getcwd())\n",
    "from scraping.url_checker import UrlChecker\n",
    "import pandas as pd\n",
    "import logging\n",
    "logging.basicConfig(\n",
    "                    stream=sys.stdout,\n",
    "                    level=logging.INFO,\n",
    "                    format=\"%(asctime)s %(message)s\")\n",
    "\n",
    "url_checker = UrlChecker()\n",
    "resp_cu_export = url_checker.check_urls_for_cu_export_data(\"./data/cu_export.csv\")\n",
    "resp_cu_export_df = pd.DataFrame(resp_cu_export)\n",
    "resp_cu_export_df"
   ]
  },
  {
   "cell_type": "code",
   "execution_count": null,
   "metadata": {},
   "outputs": [],
   "source": [
    "resp_cu_export_df.to_csv(\"./data/url_checker_burnside.csv\", index=False, escapechar=\"\\\\\")"
   ]
  },
  {
   "cell_type": "code",
   "execution_count": null,
   "metadata": {},
   "outputs": [],
   "source": [
    "resp_cu_export_df[\"response_code\"].unique()\n",
    "# 200 means Ok\n",
    "# 404 means Not Found\n",
    "# 500 means Internal Server Error / Exceptions. These need to be checked"
   ]
  },
  {
   "cell_type": "code",
   "execution_count": null,
   "metadata": {},
   "outputs": [],
   "source": [
    "resp_cu_export_df.columns"
   ]
  },
  {
   "cell_type": "code",
   "execution_count": null,
   "metadata": {},
   "outputs": [],
   "source": [
    "# possibly problematic data, there could be some urls which was not able to scrape\n",
    "# eg. abn lookup website\n",
    "errors_df = resp_cu_export_df[resp_cu_export_df[\"response_code\"] != 200]\n",
    "# \n",
    "errors_df[[\"url\", \"response_code\",\"base_url\"]]"
   ]
  },
  {
   "cell_type": "code",
   "execution_count": null,
   "metadata": {},
   "outputs": [],
   "source": [
    "errors_df[\"url\"].tolist()"
   ]
  },
  {
   "cell_type": "code",
   "execution_count": null,
   "metadata": {},
   "outputs": [],
   "source": [
    "# read the output of url checker csv\n",
    "# If you receive exception regarding playwright SYNC api, then run the code from url_checker_tests.py\n",
    "# Save the output in csv, then read the csv here\n",
    "import pandas as pd\n",
    "df = pd.read_csv(\"./data/url_checker.csv\")\n",
    "df[df[\"response_code\"] != 200]"
   ]
  }
 ],
 "metadata": {
  "kernelspec": {
   "display_name": ".venv",
   "language": "python",
   "name": "python3"
  },
  "language_info": {
   "codemirror_mode": {
    "name": "ipython",
    "version": 3
   },
   "file_extension": ".py",
   "mimetype": "text/x-python",
   "name": "python",
   "nbconvert_exporter": "python",
   "pygments_lexer": "ipython3",
   "version": "3.10.8"
  }
 },
 "nbformat": 4,
 "nbformat_minor": 2
}
