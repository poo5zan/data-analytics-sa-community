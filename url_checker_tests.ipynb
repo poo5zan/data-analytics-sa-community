{
 "cells": [
  {
   "cell_type": "code",
   "execution_count": null,
   "metadata": {},
   "outputs": [],
   "source": [
    "import sys\n",
    "import os\n",
    "# insert current path to system path, so that we can import python file\n",
    "sys.path.insert(1, os.getcwd())\n",
    "from scraping.url_checker import UrlChecker\n",
    "import pandas as pd\n",
    "import logging\n",
    "logging.basicConfig(\n",
    "                    stream=sys.stdout,\n",
    "                    level=logging.INFO,\n",
    "                    format=\"%(asctime)s %(message)s\")\n",
    "\n",
    "url_checker = UrlChecker()\n",
    "resp = url_checker.check_urls_status(\"https://sacommunity.org/node/1123\")\n",
    "responses = [r.__dict__ for r in resp]\n",
    "resp_df = pd.DataFrame(responses)\n",
    "resp_df"
   ]
  }
 ],
 "metadata": {
  "kernelspec": {
   "display_name": ".venv",
   "language": "python",
   "name": "python3"
  },
  "language_info": {
   "codemirror_mode": {
    "name": "ipython",
    "version": 3
   },
   "file_extension": ".py",
   "mimetype": "text/x-python",
   "name": "python",
   "nbconvert_exporter": "python",
   "pygments_lexer": "ipython3",
   "version": "3.10.8"
  }
 },
 "nbformat": 4,
 "nbformat_minor": 2
}
