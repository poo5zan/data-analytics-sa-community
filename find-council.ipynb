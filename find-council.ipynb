{
 "cells": [
  {
   "cell_type": "code",
   "execution_count": 4,
   "metadata": {},
   "outputs": [],
   "source": [
    "import sys\n",
    "import os\n",
    "# insert current path to system path, so that we can import python file\n",
    "sys.path.insert(1, os.getcwd())\n",
    "from scraping.web_scraping import WebScraping\n",
    "web_scraping = WebScraping()"
   ]
  },
  {
   "cell_type": "code",
   "execution_count": null,
   "metadata": {},
   "outputs": [],
   "source": [
    "# check headless behaviour\n",
    "# This will open a chrome browser\n",
    "# Since, timeout is less, just 2 seconds, we won't get any data for this, it's just for the test of headless property\n",
    "print(web_scraping.find_council_by_address(\"130 L'Estrange Street, Glenunga\", timeout_in_seconds=100, is_headless=False))"
   ]
  },
  {
   "cell_type": "code",
   "execution_count": null,
   "metadata": {},
   "outputs": [],
   "source": [
    "# get valid data in headless mode. The operation will be done in background, and you won't see any chrome browser initiated\n",
    "print('council details ', web_scraping.find_council_by_address(\"130 L'Estrange Street, Glenunga\"))"
   ]
  },
  {
   "cell_type": "code",
   "execution_count": null,
   "metadata": {},
   "outputs": [],
   "source": [
    "# test timeout feature in headless mode\n",
    "print(web_scraping.find_council_by_address(\"130 L'Estrange Street, Glenunga\", 2))"
   ]
  },
  {
   "cell_type": "code",
   "execution_count": null,
   "metadata": {},
   "outputs": [],
   "source": [
    "import pandas as pd\n",
    "# The cu export file depends on your use case, whether you want all data or specific to council\n",
    "# download the data from sacommunity.org/export\n",
    "cu_export_df = pd.read_csv(\"./data/cu_export_all.csv\")"
   ]
  },
  {
   "cell_type": "code",
   "execution_count": null,
   "metadata": {},
   "outputs": [],
   "source": [
    "cu_export_df.head()"
   ]
  },
  {
   "cell_type": "code",
   "execution_count": 1,
   "metadata": {},
   "outputs": [
    {
     "ename": "ValueError",
     "evalue": "'stream' and 'filename' should not be specified together",
     "output_type": "error",
     "traceback": [
      "\u001b[0;31m---------------------------------------------------------------------------\u001b[0m",
      "\u001b[0;31mValueError\u001b[0m                                Traceback (most recent call last)",
      "Cell \u001b[0;32mIn[1], line 9\u001b[0m\n\u001b[1;32m      7\u001b[0m \u001b[38;5;28;01mimport\u001b[39;00m \u001b[38;5;21;01mpandas\u001b[39;00m \u001b[38;5;28;01mas\u001b[39;00m \u001b[38;5;21;01mpd\u001b[39;00m\n\u001b[1;32m      8\u001b[0m logger \u001b[38;5;241m=\u001b[39m logging\u001b[38;5;241m.\u001b[39mgetLogger()\n\u001b[0;32m----> 9\u001b[0m \u001b[43mlogging\u001b[49m\u001b[38;5;241;43m.\u001b[39;49m\u001b[43mbasicConfig\u001b[49m\u001b[43m(\u001b[49m\u001b[43mstream\u001b[49m\u001b[38;5;241;43m=\u001b[39;49m\u001b[43msys\u001b[49m\u001b[38;5;241;43m.\u001b[39;49m\u001b[43mstdout\u001b[49m\u001b[43m,\u001b[49m\n\u001b[1;32m     10\u001b[0m \u001b[43m                    \u001b[49m\u001b[43mlevel\u001b[49m\u001b[38;5;241;43m=\u001b[39;49m\u001b[43mlogging\u001b[49m\u001b[38;5;241;43m.\u001b[39;49m\u001b[43mINFO\u001b[49m\u001b[43m,\u001b[49m\n\u001b[1;32m     11\u001b[0m \u001b[43m                    \u001b[49m\u001b[38;5;28;43mformat\u001b[39;49m\u001b[38;5;241;43m=\u001b[39;49m\u001b[38;5;124;43m\"\u001b[39;49m\u001b[38;5;132;43;01m%(asctime)s\u001b[39;49;00m\u001b[38;5;124;43m \u001b[39;49m\u001b[38;5;132;43;01m%(message)s\u001b[39;49;00m\u001b[38;5;124;43m\"\u001b[39;49m\u001b[43m,\u001b[49m\n\u001b[1;32m     12\u001b[0m \u001b[43m                    \u001b[49m\u001b[43mfilename\u001b[49m\u001b[38;5;241;43m=\u001b[39;49m\u001b[38;5;124;43m\"\u001b[39;49m\u001b[38;5;124;43m./logs/council_scrape.log\u001b[39;49m\u001b[38;5;124;43m\"\u001b[39;49m\u001b[43m)\u001b[49m\n\u001b[1;32m     14\u001b[0m \u001b[38;5;66;03m# The cu export file depends on your use case, whether you want all data or specific to council\u001b[39;00m\n\u001b[1;32m     15\u001b[0m \u001b[38;5;66;03m# download the data from sacommunity.org/export\u001b[39;00m\n\u001b[1;32m     16\u001b[0m cu_export_df \u001b[38;5;241m=\u001b[39m pd\u001b[38;5;241m.\u001b[39mread_csv(\u001b[38;5;124m\"\u001b[39m\u001b[38;5;124m./data/cu_export_all.csv\u001b[39m\u001b[38;5;124m\"\u001b[39m)\n",
      "File \u001b[0;32m~/anaconda/anaconda3/lib/python3.10/logging/__init__.py:2026\u001b[0m, in \u001b[0;36mbasicConfig\u001b[0;34m(**kwargs)\u001b[0m\n\u001b[1;32m   2024\u001b[0m \u001b[38;5;28;01mif\u001b[39;00m handlers \u001b[38;5;129;01mis\u001b[39;00m \u001b[38;5;28;01mNone\u001b[39;00m:\n\u001b[1;32m   2025\u001b[0m     \u001b[38;5;28;01mif\u001b[39;00m \u001b[38;5;124m\"\u001b[39m\u001b[38;5;124mstream\u001b[39m\u001b[38;5;124m\"\u001b[39m \u001b[38;5;129;01min\u001b[39;00m kwargs \u001b[38;5;129;01mand\u001b[39;00m \u001b[38;5;124m\"\u001b[39m\u001b[38;5;124mfilename\u001b[39m\u001b[38;5;124m\"\u001b[39m \u001b[38;5;129;01min\u001b[39;00m kwargs:\n\u001b[0;32m-> 2026\u001b[0m         \u001b[38;5;28;01mraise\u001b[39;00m \u001b[38;5;167;01mValueError\u001b[39;00m(\u001b[38;5;124m\"\u001b[39m\u001b[38;5;124m'\u001b[39m\u001b[38;5;124mstream\u001b[39m\u001b[38;5;124m'\u001b[39m\u001b[38;5;124m and \u001b[39m\u001b[38;5;124m'\u001b[39m\u001b[38;5;124mfilename\u001b[39m\u001b[38;5;124m'\u001b[39m\u001b[38;5;124m should not be \u001b[39m\u001b[38;5;124m\"\u001b[39m\n\u001b[1;32m   2027\u001b[0m                          \u001b[38;5;124m\"\u001b[39m\u001b[38;5;124mspecified together\u001b[39m\u001b[38;5;124m\"\u001b[39m)\n\u001b[1;32m   2028\u001b[0m \u001b[38;5;28;01melse\u001b[39;00m:\n\u001b[1;32m   2029\u001b[0m     \u001b[38;5;28;01mif\u001b[39;00m \u001b[38;5;124m\"\u001b[39m\u001b[38;5;124mstream\u001b[39m\u001b[38;5;124m\"\u001b[39m \u001b[38;5;129;01min\u001b[39;00m kwargs \u001b[38;5;129;01mor\u001b[39;00m \u001b[38;5;124m\"\u001b[39m\u001b[38;5;124mfilename\u001b[39m\u001b[38;5;124m\"\u001b[39m \u001b[38;5;129;01min\u001b[39;00m kwargs:\n",
      "\u001b[0;31mValueError\u001b[0m: 'stream' and 'filename' should not be specified together"
     ]
    }
   ],
   "source": [
    "import sys\n",
    "import os\n",
    "# insert current path to system path, so that we can import python file\n",
    "sys.path.insert(1, os.getcwd())\n",
    "from scraping.web_scraping import WebScraping\n",
    "import logging\n",
    "import pandas as pd\n",
    "logger = logging.getLogger()\n",
    "logging.basicConfig(\n",
    "    # stream=sys.stdout,\n",
    "                    level=logging.INFO,\n",
    "                    format=\"%(asctime)s %(message)s\",\n",
    "                    filename=\"./logs/council_scrape.log\")\n",
    "\n",
    "# The cu export file depends on your use case, whether you want all data or specific to council\n",
    "# download the data from sacommunity.org/export\n",
    "cu_export_df = pd.read_csv(\"./data/cu_export_all.csv\")\n",
    "#Fill empty string in na\n",
    "cu_export_df['Street_Address_Line_1'].fillna(\"\", inplace=True)\n",
    "#get the street addresses\n",
    "org_id_address_df = cu_export_df[[\"ID_19\", \"Street_Address_Line_1\",\"Suburb\",\"Organisati_Council\",\"Organisati_Electorate_State_\",\"Organisati_Electorate_Federal_\"]]\n",
    "web_scraping = WebScraping()\n",
    "scraped_councils = web_scraping.scrape_council_names_based_on_cu_export_df(\n",
    "    org_id_address_df,\n",
    "    \"./data/cu_export_all_scraped.jsonl\")\n",
    "scraped_councils_df = pd.DataFrame(scraped_councils)\n",
    "scraped_councils_df"
   ]
  }
 ],
 "metadata": {
  "kernelspec": {
   "display_name": ".venv",
   "language": "python",
   "name": "python3"
  },
  "language_info": {
   "codemirror_mode": {
    "name": "ipython",
    "version": 3
   },
   "file_extension": ".py",
   "mimetype": "text/x-python",
   "name": "python",
   "nbconvert_exporter": "python",
   "pygments_lexer": "ipython3",
   "version": "3.10.8"
  }
 },
 "nbformat": 4,
 "nbformat_minor": 2
}
