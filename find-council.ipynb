{
 "cells": [
  {
   "cell_type": "code",
   "execution_count": null,
   "metadata": {},
   "outputs": [],
   "source": [
    "import sys\n",
    "import os\n",
    "# insert current path to system path, so that we can import python file\n",
    "sys.path.insert(1, os.getcwd())\n",
    "from scraping.web_scraping import WebScraping\n",
    "web_scraping = WebScraping()"
   ]
  },
  {
   "cell_type": "code",
   "execution_count": null,
   "metadata": {},
   "outputs": [],
   "source": [
    "# check headless behaviour\n",
    "# This will open a chrome browser\n",
    "# Since, timeout is less, just 2 seconds, we won't get any data for this, it's just for the test of headless property\n",
    "print(web_scraping.find_council_by_address(\"130 L'Estrange Street, Glenunga\", timeout_in_seconds=100, is_headless=False))"
   ]
  },
  {
   "cell_type": "code",
   "execution_count": null,
   "metadata": {},
   "outputs": [],
   "source": [
    "# get valid data in headless mode. The operation will be done in background, and you won't see any chrome browser initiated\n",
    "print('council details ', web_scraping.find_council_by_address(\"130 L'Estrange Street, Glenunga\"))"
   ]
  },
  {
   "cell_type": "code",
   "execution_count": null,
   "metadata": {},
   "outputs": [],
   "source": [
    "# test timeout feature in headless mode\n",
    "print(web_scraping.find_council_by_address(\"130 L'Estrange Street, Glenunga\", 2))"
   ]
  },
  {
   "cell_type": "code",
   "execution_count": null,
   "metadata": {},
   "outputs": [],
   "source": [
    "import pandas as pd\n",
    "# The cu export file depends on your use case, whether you want all data or specific to council\n",
    "# download the data from sacommunity.org/export\n",
    "cu_export_df = pd.read_csv(\"./data/cu_export_all.csv\")"
   ]
  },
  {
   "cell_type": "code",
   "execution_count": null,
   "metadata": {},
   "outputs": [],
   "source": [
    "cu_export_df.head()"
   ]
  },
  {
   "cell_type": "code",
   "execution_count": null,
   "metadata": {},
   "outputs": [],
   "source": [
    "import sys\n",
    "import os\n",
    "# insert current path to system path, so that we can import python file\n",
    "sys.path.insert(1, os.getcwd())\n",
    "from scraping.web_scraping import WebScraping\n",
    "import logging\n",
    "import pandas as pd\n",
    "logger = logging.getLogger()\n",
    "\n",
    "logging.basicConfig(\n",
    "                    stream=sys.stdout,\n",
    "                    level=logging.INFO,\n",
    "                    format=\"%(asctime)s %(message)s\")\n",
    "\n",
    "# The cu export file depends on your use case, whether you want all data or specific to council\n",
    "# download the data from sacommunity.org/export\n",
    "cu_export_df = pd.read_csv(\"./data/cu_export_all.csv\")\n",
    "#Fill empty string in na\n",
    "cu_export_df['Street_Address_Line_1'].fillna(\"\", inplace=True)\n",
    "#get the street addresses\n",
    "org_id_address_df = cu_export_df[[\"ID_19\", \"Street_Address_Line_1\",\"Suburb\",\"Organisati_Council\",\"Organisati_Electorate_State_\",\"Organisati_Electorate_Federal_\"]]\n",
    "web_scraping = WebScraping()\n",
    "scraped_councils = web_scraping.scrape_council_names_based_on_cu_export_df(\n",
    "    org_id_address_df,\n",
    "    \"./data/cu_export_all_scraped.jsonl\")\n",
    "scraped_councils_df = pd.DataFrame(scraped_councils)\n",
    "scraped_councils_df"
   ]
  }
 ],
 "metadata": {
  "kernelspec": {
   "display_name": ".venv",
   "language": "python",
   "name": "python3"
  },
  "language_info": {
   "codemirror_mode": {
    "name": "ipython",
    "version": 3
   },
   "file_extension": ".py",
   "mimetype": "text/x-python",
   "name": "python",
   "nbconvert_exporter": "python",
   "pygments_lexer": "ipython3",
   "version": "3.10.8"
  }
 },
 "nbformat": 4,
 "nbformat_minor": 2
}
