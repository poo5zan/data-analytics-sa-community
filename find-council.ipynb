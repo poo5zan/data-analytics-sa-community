{
 "cells": [
  {
   "cell_type": "code",
   "execution_count": null,
   "metadata": {},
   "outputs": [],
   "source": [
    "import sys\n",
    "import os\n",
    "# insert current path to system path, so that we can import python file\n",
    "sys.path.insert(1, os.getcwd())\n",
    "\n",
    "from find_council import find_council_by_address"
   ]
  },
  {
   "cell_type": "code",
   "execution_count": null,
   "metadata": {},
   "outputs": [],
   "source": [
    "# check headless behaviour\n",
    "# This will open a chrome browser\n",
    "# Since, timeout is less, just 2 seconds, we won't get any data for this, it's just for the test of headless property\n",
    "print(find_council_by_address(\"130 L'Estrange Street, Glenunga\", timeout_in_seconds=2, is_headless=False))"
   ]
  },
  {
   "cell_type": "code",
   "execution_count": null,
   "metadata": {},
   "outputs": [],
   "source": [
    "# get valid data in headless mode. The operation will be done in background, and you won't see any chrome browser initiated\n",
    "print('council details ', find_council_by_address(\"130 L'Estrange Street, Glenunga\"))"
   ]
  },
  {
   "cell_type": "code",
   "execution_count": null,
   "metadata": {},
   "outputs": [],
   "source": [
    "# test timeout feature in headless mode\n",
    "print(find_council_by_address(\"130 L'Estrange Street, Glenunga\", 2))"
   ]
  }
 ],
 "metadata": {
  "kernelspec": {
   "display_name": "base",
   "language": "python",
   "name": "python3"
  },
  "language_info": {
   "codemirror_mode": {
    "name": "ipython",
    "version": 3
   },
   "file_extension": ".py",
   "mimetype": "text/x-python",
   "name": "python",
   "nbconvert_exporter": "python",
   "pygments_lexer": "ipython3",
   "version": "3.10.8"
  }
 },
 "nbformat": 4,
 "nbformat_minor": 2
}
