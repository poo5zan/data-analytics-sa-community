{
 "cells": [
  {
   "cell_type": "code",
   "execution_count": 1,
   "metadata": {},
   "outputs": [],
   "source": [
    "from datetime import date\n",
    "from google_analytics_module.services.google_analytics_service import GoogleAnalyticsService\n",
    "\n",
    "google_analytics_service = GoogleAnalyticsService()\n",
    "start_date = date(2023,7,1)\n",
    "end_date = date(2024,6,30)\n",
    "dataset_id = \"0QK91R12\" # Burnside"
   ]
  },
  {
   "cell_type": "code",
   "execution_count": 2,
   "metadata": {},
   "outputs": [
    {
     "data": {
      "text/html": [
       "<div>\n",
       "<style scoped>\n",
       "    .dataframe tbody tr th:only-of-type {\n",
       "        vertical-align: middle;\n",
       "    }\n",
       "\n",
       "    .dataframe tbody tr th {\n",
       "        vertical-align: top;\n",
       "    }\n",
       "\n",
       "    .dataframe thead th {\n",
       "        text-align: right;\n",
       "    }\n",
       "</style>\n",
       "<table border=\"1\" class=\"dataframe\">\n",
       "  <thead>\n",
       "    <tr style=\"text-align: right;\">\n",
       "      <th></th>\n",
       "      <th>customEvent:DatasetID</th>\n",
       "      <th>landingPage</th>\n",
       "      <th>eventName</th>\n",
       "      <th>sessions</th>\n",
       "      <th>eventCount</th>\n",
       "      <th>start_date</th>\n",
       "      <th>end_date</th>\n",
       "    </tr>\n",
       "  </thead>\n",
       "  <tbody>\n",
       "    <tr>\n",
       "      <th>0</th>\n",
       "      <td>0QK91R12</td>\n",
       "      <td>/org/202703-Drug_and_Alcohol_Services_SA_-_Wit...</td>\n",
       "      <td>trackCustomData</td>\n",
       "      <td>483</td>\n",
       "      <td>544</td>\n",
       "      <td>2023-07-01</td>\n",
       "      <td>2024-06-30</td>\n",
       "    </tr>\n",
       "    <tr>\n",
       "      <th>1</th>\n",
       "      <td>0QK91R12</td>\n",
       "      <td>/org/236722-Justices_of_the_Peace_-_Burnside</td>\n",
       "      <td>trackCustomData</td>\n",
       "      <td>411</td>\n",
       "      <td>471</td>\n",
       "      <td>2023-07-01</td>\n",
       "      <td>2024-06-30</td>\n",
       "    </tr>\n",
       "    <tr>\n",
       "      <th>2</th>\n",
       "      <td>0QK91R12</td>\n",
       "      <td>/org/201829-Cats_Assistance_To_Sterilise_Inc.</td>\n",
       "      <td>trackCustomData</td>\n",
       "      <td>305</td>\n",
       "      <td>361</td>\n",
       "      <td>2023-07-01</td>\n",
       "      <td>2024-06-30</td>\n",
       "    </tr>\n",
       "    <tr>\n",
       "      <th>3</th>\n",
       "      <td>0QK91R12</td>\n",
       "      <td>/</td>\n",
       "      <td>trackCustomData</td>\n",
       "      <td>267</td>\n",
       "      <td>677</td>\n",
       "      <td>2023-07-01</td>\n",
       "      <td>2024-06-30</td>\n",
       "    </tr>\n",
       "    <tr>\n",
       "      <th>4</th>\n",
       "      <td>0QK91R12</td>\n",
       "      <td>/org/201612-Dementia_Australia</td>\n",
       "      <td>trackCustomData</td>\n",
       "      <td>261</td>\n",
       "      <td>290</td>\n",
       "      <td>2023-07-01</td>\n",
       "      <td>2024-06-30</td>\n",
       "    </tr>\n",
       "    <tr>\n",
       "      <th>...</th>\n",
       "      <td>...</td>\n",
       "      <td>...</td>\n",
       "      <td>...</td>\n",
       "      <td>...</td>\n",
       "      <td>...</td>\n",
       "      <td>...</td>\n",
       "      <td>...</td>\n",
       "    </tr>\n",
       "    <tr>\n",
       "      <th>1205</th>\n",
       "      <td>0QK91R12</td>\n",
       "      <td>/thesaurus/15708-Youth_Advisory_Committees</td>\n",
       "      <td>trackCustomData</td>\n",
       "      <td>1</td>\n",
       "      <td>2</td>\n",
       "      <td>2023-07-01</td>\n",
       "      <td>2024-06-30</td>\n",
       "    </tr>\n",
       "    <tr>\n",
       "      <th>1206</th>\n",
       "      <td>0QK91R12</td>\n",
       "      <td>/user/21035/edit</td>\n",
       "      <td>trackCustomData</td>\n",
       "      <td>1</td>\n",
       "      <td>3</td>\n",
       "      <td>2023-07-01</td>\n",
       "      <td>2024-06-30</td>\n",
       "    </tr>\n",
       "    <tr>\n",
       "      <th>1207</th>\n",
       "      <td>0QK91R12</td>\n",
       "      <td>/user/login</td>\n",
       "      <td>trackCustomData</td>\n",
       "      <td>1</td>\n",
       "      <td>2</td>\n",
       "      <td>2023-07-01</td>\n",
       "      <td>2024-06-30</td>\n",
       "    </tr>\n",
       "    <tr>\n",
       "      <th>1208</th>\n",
       "      <td>0QK91R12</td>\n",
       "      <td>/volunteers%2C%20volunteering</td>\n",
       "      <td>trackCustomData</td>\n",
       "      <td>1</td>\n",
       "      <td>1</td>\n",
       "      <td>2023-07-01</td>\n",
       "      <td>2024-06-30</td>\n",
       "    </tr>\n",
       "    <tr>\n",
       "      <th>1209</th>\n",
       "      <td>0QK91R12</td>\n",
       "      <td>/volunteers, volunteering</td>\n",
       "      <td>trackCustomData</td>\n",
       "      <td>1</td>\n",
       "      <td>1</td>\n",
       "      <td>2023-07-01</td>\n",
       "      <td>2024-06-30</td>\n",
       "    </tr>\n",
       "  </tbody>\n",
       "</table>\n",
       "<p>1210 rows × 7 columns</p>\n",
       "</div>"
      ],
      "text/plain": [
       "     customEvent:DatasetID                                        landingPage  \\\n",
       "0                 0QK91R12  /org/202703-Drug_and_Alcohol_Services_SA_-_Wit...   \n",
       "1                 0QK91R12       /org/236722-Justices_of_the_Peace_-_Burnside   \n",
       "2                 0QK91R12      /org/201829-Cats_Assistance_To_Sterilise_Inc.   \n",
       "3                 0QK91R12                                                  /   \n",
       "4                 0QK91R12                     /org/201612-Dementia_Australia   \n",
       "...                    ...                                                ...   \n",
       "1205              0QK91R12         /thesaurus/15708-Youth_Advisory_Committees   \n",
       "1206              0QK91R12                                   /user/21035/edit   \n",
       "1207              0QK91R12                                        /user/login   \n",
       "1208              0QK91R12                      /volunteers%2C%20volunteering   \n",
       "1209              0QK91R12                          /volunteers, volunteering   \n",
       "\n",
       "            eventName sessions eventCount  start_date    end_date  \n",
       "0     trackCustomData      483        544  2023-07-01  2024-06-30  \n",
       "1     trackCustomData      411        471  2023-07-01  2024-06-30  \n",
       "2     trackCustomData      305        361  2023-07-01  2024-06-30  \n",
       "3     trackCustomData      267        677  2023-07-01  2024-06-30  \n",
       "4     trackCustomData      261        290  2023-07-01  2024-06-30  \n",
       "...               ...      ...        ...         ...         ...  \n",
       "1205  trackCustomData        1          2  2023-07-01  2024-06-30  \n",
       "1206  trackCustomData        1          3  2023-07-01  2024-06-30  \n",
       "1207  trackCustomData        1          2  2023-07-01  2024-06-30  \n",
       "1208  trackCustomData        1          1  2023-07-01  2024-06-30  \n",
       "1209  trackCustomData        1          1  2023-07-01  2024-06-30  \n",
       "\n",
       "[1210 rows x 7 columns]"
      ]
     },
     "execution_count": 2,
     "metadata": {},
     "output_type": "execute_result"
    }
   ],
   "source": [
    "landing_page_df = google_analytics_service.get_sessions_by_landing_page_as_df(dataset_id, start_date, end_date)\n",
    "landing_page_df"
   ]
  },
  {
   "cell_type": "code",
   "execution_count": 3,
   "metadata": {},
   "outputs": [
    {
     "data": {
      "text/plain": [
       "array(['trackCustomData'], dtype=object)"
      ]
     },
     "execution_count": 3,
     "metadata": {},
     "output_type": "execute_result"
    }
   ],
   "source": [
    "landing_page_df['eventName'].unique()"
   ]
  },
  {
   "cell_type": "code",
   "execution_count": null,
   "metadata": {},
   "outputs": [],
   "source": [
    "age_df = google_analytics_service.get_sessions_by_age_as_df(dataset_id, start_date, end_date)\n",
    "age_df"
   ]
  },
  {
   "cell_type": "code",
   "execution_count": null,
   "metadata": {},
   "outputs": [],
   "source": [
    "gender_df = google_analytics_service.get_sessions_by_gender_as_df(dataset_id, start_date, end_date)\n",
    "gender_df"
   ]
  },
  {
   "cell_type": "code",
   "execution_count": null,
   "metadata": {},
   "outputs": [],
   "source": [
    "source_df = google_analytics_service.get_sessions_by_source_as_df(dataset_id, start_date, end_date)\n",
    "source_df"
   ]
  },
  {
   "cell_type": "code",
   "execution_count": null,
   "metadata": {},
   "outputs": [],
   "source": [
    "medium_df = google_analytics_service.get_sessions_by_medium_as_df(dataset_id, start_date, end_date)\n",
    "medium_df"
   ]
  }
 ],
 "metadata": {
  "kernelspec": {
   "display_name": ".venv",
   "language": "python",
   "name": "python3"
  },
  "language_info": {
   "codemirror_mode": {
    "name": "ipython",
    "version": 3
   },
   "file_extension": ".py",
   "mimetype": "text/x-python",
   "name": "python",
   "nbconvert_exporter": "python",
   "pygments_lexer": "ipython3",
   "version": "3.10.8"
  }
 },
 "nbformat": 4,
 "nbformat_minor": 2
}
