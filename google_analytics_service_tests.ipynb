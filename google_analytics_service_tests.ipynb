{
 "cells": [
  {
   "cell_type": "code",
   "execution_count": null,
   "metadata": {},
   "outputs": [],
   "source": [
    "from datetime import date\n",
    "from google_analytics_module.services.google_analytics_service import GoogleAnalyticsService\n",
    "\n",
    "google_analytics_service = GoogleAnalyticsService()\n",
    "start_date = date(2023,7,1)\n",
    "end_date = date(2024,6,30)\n",
    "dataset_id = \"0QK91R12\" # Burnside\n",
    "# 202703"
   ]
  },
  {
   "cell_type": "code",
   "execution_count": null,
   "metadata": {},
   "outputs": [],
   "source": [
    "landing_page_df = google_analytics_service.get_sessions_by_landing_page_as_df(dataset_id, start_date, end_date)\n",
    "landing_page_df"
   ]
  },
  {
   "cell_type": "code",
   "execution_count": null,
   "metadata": {},
   "outputs": [],
   "source": [
    "age_df = google_analytics_service.get_sessions_by_age_as_df(dataset_id, start_date, end_date)\n",
    "age_df"
   ]
  },
  {
   "cell_type": "code",
   "execution_count": null,
   "metadata": {},
   "outputs": [],
   "source": [
    "gender_df = google_analytics_service.get_sessions_by_gender_as_df(dataset_id, start_date, end_date)\n",
    "gender_df"
   ]
  },
  {
   "cell_type": "code",
   "execution_count": null,
   "metadata": {},
   "outputs": [],
   "source": [
    "source_df = google_analytics_service.get_sessions_by_source_as_df(dataset_id, start_date, end_date)\n",
    "source_df"
   ]
  },
  {
   "cell_type": "code",
   "execution_count": null,
   "metadata": {},
   "outputs": [],
   "source": [
    "medium_df = google_analytics_service.get_sessions_by_medium_as_df(dataset_id, start_date, end_date)\n",
    "medium_df"
   ]
  },
  {
   "cell_type": "code",
   "execution_count": null,
   "metadata": {},
   "outputs": [],
   "source": [
    "# get sessions by organisation id\n",
    "from datetime import date\n",
    "from google_analytics_module.services.google_analytics_service import GoogleAnalyticsService\n",
    "\n",
    "google_analytics_service = GoogleAnalyticsService()\n",
    "start_date = date(2023,7,1)\n",
    "end_date = date(2024,6,30)\n",
    "organisation_id = \"202703\"\n",
    "\n",
    "sessions_count = google_analytics_service.get_sessions_by_organisation_id(start_date, end_date, organisation_id)\n",
    "sessions_count\n"
   ]
  }
 ],
 "metadata": {
  "kernelspec": {
   "display_name": ".venv",
   "language": "python",
   "name": "python3"
  },
  "language_info": {
   "codemirror_mode": {
    "name": "ipython",
    "version": 3
   },
   "file_extension": ".py",
   "mimetype": "text/x-python",
   "name": "python",
   "nbconvert_exporter": "python",
   "pygments_lexer": "ipython3",
   "version": "3.10.8"
  }
 },
 "nbformat": 4,
 "nbformat_minor": 2
}
