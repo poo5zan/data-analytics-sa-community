{
 "cells": [
  {
   "cell_type": "code",
   "execution_count": null,
   "metadata": {},
   "outputs": [],
   "source": [
    "# Fetch data from Google Analytics API\n",
    "from datetime import date\n",
    "from google_analytics_module.services.google_analytics_service import GoogleAnalyticsService\n",
    "\n",
    "google_analytics_service = GoogleAnalyticsService()\n",
    "start_date = date(2023,7,1)\n",
    "end_date = date(2024,6,30)\n",
    "dataset_id = \"0QK91R12\" # Burnside\n",
    "landing_page_df = google_analytics_service.get_sessions_by_landing_page_as_df(dataset_id, start_date, end_date)\n",
    "landing_page_df"
   ]
  },
  {
   "cell_type": "code",
   "execution_count": null,
   "metadata": {},
   "outputs": [],
   "source": [
    "# landing page starts with /org/ are valid\n",
    "landing_page_df = landing_page_df[landing_page_df['landingPage'].str.startswith(\"/org/\")]\n",
    "landing_page_df"
   ]
  },
  {
   "cell_type": "code",
   "execution_count": null,
   "metadata": {},
   "outputs": [],
   "source": [
    "landing_page_df['customEvent:DatasetID'].unique()"
   ]
  },
  {
   "cell_type": "code",
   "execution_count": null,
   "metadata": {},
   "outputs": [],
   "source": [
    "landing_page_df.to_csv(\"./data/burnside_landing_page.csv\", index=False)"
   ]
  },
  {
   "cell_type": "code",
   "execution_count": null,
   "metadata": {},
   "outputs": [],
   "source": [
    "landing_page_df[landing_page_df['customEvent:DatasetID']==\"08CNPP17\"]"
   ]
  },
  {
   "cell_type": "code",
   "execution_count": null,
   "metadata": {},
   "outputs": [],
   "source": [
    "import pandas as pd\n",
    "# Adjust the file name appropriately.\n",
    "cu_export_df = pd.read_csv(\"./data/cu_export.csv\")"
   ]
  },
  {
   "cell_type": "code",
   "execution_count": null,
   "metadata": {},
   "outputs": [],
   "source": [
    "cu_export_df.head()"
   ]
  },
  {
   "cell_type": "code",
   "execution_count": null,
   "metadata": {},
   "outputs": [],
   "source": [
    "from data_transform.clean_landing_page import CleanLandingPage\n",
    "\n",
    "# Clean data\n",
    "processed_data_df = CleanLandingPage().process_data(landing_page_df, cu_export_df)\n",
    "processed_data_df"
   ]
  },
  {
   "cell_type": "code",
   "execution_count": null,
   "metadata": {},
   "outputs": [],
   "source": [
    "from data_transform.clean_landing_page import CleanLandingPage\n",
    "df = CleanLandingPage().get_sessions_by_organization(landing_page_df)\n",
    "df"
   ]
  },
  {
   "cell_type": "code",
   "execution_count": null,
   "metadata": {},
   "outputs": [],
   "source": [
    "len(df['organization_id'].unique().tolist())"
   ]
  },
  {
   "cell_type": "code",
   "execution_count": null,
   "metadata": {},
   "outputs": [],
   "source": [
    "# these records are problematic, they are found in google analytics, but not in sacommunity council based export \n",
    "# Check these records manually, why it is not available in sacommunity db\n",
    "# One posible reason is that the record in sacommunity is invalid, the council name could be wrong\n",
    "# Later, will try to automate on how to get the exact council name from selenium\n",
    "data_available_in_google_analytics_but_not_in_sacommunity_df = processed_data_df[processed_data_df[\"is_record_available_in_sacommunity_db\"] == False]\n",
    "data_available_in_google_analytics_but_not_in_sacommunity_df"
   ]
  },
  {
   "cell_type": "code",
   "execution_count": null,
   "metadata": {},
   "outputs": [],
   "source": [
    "data_available_in_google_analytics_but_not_in_sacommunity_df.shape"
   ]
  },
  {
   "cell_type": "code",
   "execution_count": null,
   "metadata": {},
   "outputs": [],
   "source": [
    "len(data_available_in_google_analytics_but_not_in_sacommunity_df['landing_page'].tolist())"
   ]
  },
  {
   "cell_type": "code",
   "execution_count": null,
   "metadata": {},
   "outputs": [],
   "source": [
    "data_available_in_google_analytics_but_not_in_sacommunity_df['landing_page'].tolist()"
   ]
  }
 ],
 "metadata": {
  "kernelspec": {
   "display_name": ".venv",
   "language": "python",
   "name": "python3"
  },
  "language_info": {
   "codemirror_mode": {
    "name": "ipython",
    "version": 3
   },
   "file_extension": ".py",
   "mimetype": "text/x-python",
   "name": "python",
   "nbconvert_exporter": "python",
   "pygments_lexer": "ipython3",
   "version": "3.10.8"
  }
 },
 "nbformat": 4,
 "nbformat_minor": 2
}
